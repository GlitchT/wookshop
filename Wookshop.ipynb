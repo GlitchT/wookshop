{
  "nbformat": 4,
  "nbformat_minor": 0,
  "metadata": {
    "colab": {
      "provenance": [],
      "authorship_tag": "ABX9TyNL4AivuOF+2RxCP8MFFmnh",
      "include_colab_link": true
    },
    "kernelspec": {
      "name": "python3",
      "display_name": "Python 3"
    },
    "language_info": {
      "name": "python"
    }
  },
  "cells": [
    {
      "cell_type": "markdown",
      "metadata": {
        "id": "view-in-github",
        "colab_type": "text"
      },
      "source": [
        "<a href=\"https://colab.research.google.com/github/GlitchT/wookshop/blob/main/Wookshop.ipynb\" target=\"_parent\"><img src=\"https://colab.research.google.com/assets/colab-badge.svg\" alt=\"Open In Colab\"/></a>"
      ]
    },
    {
      "cell_type": "code",
      "execution_count": null,
      "metadata": {
        "colab": {
          "base_uri": "https://localhost:8080/"
        },
        "id": "WKm6djBrFjE9",
        "outputId": "fb286acf-a08d-48aa-92ba-96571c06f436"
      },
      "outputs": [
        {
          "output_type": "stream",
          "name": "stdout",
          "text": [
            "oi\n"
          ]
        }
      ],
      "source": [
        "print(\"oi\")"
      ]
    },
    {
      "cell_type": "markdown",
      "source": [
        "#DAY 1"
      ],
      "metadata": {
        "id": "08LKPqOPM86P"
      }
    },
    {
      "cell_type": "code",
      "source": [
        "a = float(input(\"Enter 1st:\"))\n",
        "b = float(input(\"Enter 2nd:\"))\n",
        "c = a+b\n",
        "print(c)\n",
        "print(c)"
      ],
      "metadata": {
        "colab": {
          "base_uri": "https://localhost:8080/"
        },
        "id": "3Dh6kDHHG9Ke",
        "outputId": "771fe5ed-f7fd-45da-9555-2faa4e965b45"
      },
      "execution_count": null,
      "outputs": [
        {
          "output_type": "stream",
          "name": "stdout",
          "text": [
            "Enter 1st5\n",
            "Enter 2nd9\n",
            "14.0\n",
            "14.0\n"
          ]
        }
      ]
    },
    {
      "cell_type": "code",
      "source": [
        "a = int(input(\"Enter the number \"))\n",
        "if a%7==0:\n",
        "    print(\"Divisible by 7\")\n",
        "else:\n",
        "    print(\"Not divisible by 7\")"
      ],
      "metadata": {
        "colab": {
          "base_uri": "https://localhost:8080/"
        },
        "id": "sHp83kGnISuH",
        "outputId": "bdc4ed60-78bb-421d-c66f-6e10420167f4"
      },
      "execution_count": null,
      "outputs": [
        {
          "output_type": "stream",
          "name": "stdout",
          "text": [
            "Enter the number63\n",
            "Divisible by 7\n"
          ]
        }
      ]
    },
    {
      "cell_type": "markdown",
      "source": [
        "a = input(\"Enter your name : \")\n",
        "b = int(input(\"Enter your age : \"))\n",
        "print (\"My name is\", a, \"and my age is\", b)"
      ],
      "metadata": {
        "id": "VRZkQuo4JF7W"
      }
    },
    {
      "cell_type": "code",
      "source": [
        "a = input(\"Enter your name : \")\n",
        "b = int(input(\"Enter your age : \"))\n",
        "print (\"My name is\", a, \"and my age is\", b)"
      ],
      "metadata": {
        "colab": {
          "base_uri": "https://localhost:8080/"
        },
        "id": "nulLenIINsIT",
        "outputId": "fbe1499c-c019-4497-b715-c8a5f12e091c"
      },
      "execution_count": null,
      "outputs": [
        {
          "output_type": "stream",
          "name": "stdout",
          "text": [
            "Enter your name : hemlata\n",
            "Enter your age : 92\n",
            "My name is hemlata and my age is 92\n"
          ]
        }
      ]
    },
    {
      "cell_type": "code",
      "source": [
        "a = input(\"Enter your name : \")\n",
        "b = int(input(\"Enter your age : \"))\n",
        "print (\"My name is\",(a), \"and my age is\", (b))"
      ],
      "metadata": {
        "colab": {
          "base_uri": "https://localhost:8080/"
        },
        "id": "1rgm1dshNuYx",
        "outputId": "19f581f4-30b6-48de-f3e9-e3c51832449b"
      },
      "execution_count": null,
      "outputs": [
        {
          "output_type": "stream",
          "name": "stdout",
          "text": [
            "Enter your name : say\n",
            "Enter your age : 40\n",
            "My name is say and my age is 40\n"
          ]
        }
      ]
    },
    {
      "cell_type": "code",
      "source": [
        "a = int(input(\"Enter the radius: \"))\n",
        "area = 3.14*a*a\n",
        "print(\"Area of circle is\", area)\n",
        "perimeter = 2*3.14*a\n",
        "print(\"Perimeter of circle is\", perimeter)"
      ],
      "metadata": {
        "colab": {
          "base_uri": "https://localhost:8080/"
        },
        "id": "v74eiB6nKVB2",
        "outputId": "120fb6aa-3079-4f9f-c548-aa356b3c59ce"
      },
      "execution_count": null,
      "outputs": [
        {
          "output_type": "stream",
          "name": "stdout",
          "text": [
            "Enter the radius: 7\n",
            "Area of circle is 153.86\n",
            "Perimeter of circle is 43.96\n"
          ]
        }
      ]
    },
    {
      "cell_type": "markdown",
      "source": [
        "a = int(input(\"Enter a number :\"))\n",
        "b = int(input(\"Enter a number :\"))\n",
        "if a>b:\n",
        "    print(a, \"is greater than\", b)\n",
        "else:\n",
        "    print(b, \"is greater than\", a)"
      ],
      "metadata": {
        "id": "a3s7Y5iaLsT2"
      }
    },
    {
      "cell_type": "code",
      "source": [
        "print(\"NIET\", \"Noida\", \"Gr\", sep=' ')\n",
        "print('NIET, Noida, Gr', end='\\ ')\n",
        "print(\"NIET\", \"Noida\", \"Gr\", sep='-')\n",
        "print(\"NIET\", \"Noida\", \"Gr\", sep='*')\n",
        "print(\"NIET\", \"Noida\", \"Gr\", sep='/')\n",
        "print(r'NIET\\Noida\\Gr')"
      ],
      "metadata": {
        "colab": {
          "base_uri": "https://localhost:8080/"
        },
        "id": "gpUweHEVEXGO",
        "outputId": "828cd23e-eeec-4458-caac-f07019078a57"
      },
      "execution_count": null,
      "outputs": [
        {
          "output_type": "stream",
          "name": "stdout",
          "text": [
            "NIET Noida Gr\n",
            "NIET, Noida, Gr\\ NIET-Noida-Gr\n",
            "NIET*Noida*Gr\n",
            "NIET/Noida/Gr\n",
            "NIET\\Noida\\Gr\n"
          ]
        }
      ]
    },
    {
      "cell_type": "markdown",
      "source": [
        "#DAY 2"
      ],
      "metadata": {
        "id": "Tbowlu1iM2zz"
      }
    },
    {
      "cell_type": "code",
      "source": [
        "a= 9\n",
        "b= 11\n",
        "c= a+b\n",
        "print (\"Addition of\",a,\"and\",b,\"is\",c)"
      ],
      "metadata": {
        "colab": {
          "base_uri": "https://localhost:8080/"
        },
        "id": "k_agS1hbLWO7",
        "outputId": "0d67ed28-7e87-471c-a1ba-594656a3c2dc"
      },
      "execution_count": null,
      "outputs": [
        {
          "output_type": "stream",
          "name": "stdout",
          "text": [
            "Addition of 9 and 11 is 20\n"
          ]
        }
      ]
    },
    {
      "cell_type": "code",
      "source": [
        "a= 9\n",
        "b= 12\n",
        "c= a*b\n",
        "print(\"Product of {} and {} is {}\".format(a,b,c))"
      ],
      "metadata": {
        "colab": {
          "base_uri": "https://localhost:8080/"
        },
        "id": "8LCmCKvVcmz9",
        "outputId": "1dd49fc4-0b3f-436f-8c59-3d66b3669e11"
      },
      "execution_count": null,
      "outputs": [
        {
          "output_type": "stream",
          "name": "stdout",
          "text": [
            "Product of 9 and 12 is 108\n"
          ]
        }
      ]
    },
    {
      "cell_type": "code",
      "source": [
        "a= int(input(\"1st no: \"))\n",
        "b= int(input(\"2nd no: \"))\n",
        "\n",
        "print(a+b)\n",
        "print(a-b)\n",
        "print(a*b)\n",
        "print(a/b)\n",
        "print(a%b)\n",
        "print(a//b)\n",
        "print(a**b)\n"
      ],
      "metadata": {
        "colab": {
          "base_uri": "https://localhost:8080/"
        },
        "id": "LfwQWoRn02Ct",
        "outputId": "5a68cba0-bc16-47b8-fbfd-177df1b31b71"
      },
      "execution_count": null,
      "outputs": [
        {
          "output_type": "stream",
          "name": "stdout",
          "text": [
            "1st no: 7\n",
            "2nd no: 2\n",
            "9\n",
            "5\n",
            "14\n",
            "3.5\n",
            "1\n",
            "3\n",
            "49\n"
          ]
        }
      ]
    },
    {
      "cell_type": "code",
      "source": [
        "a = int(input(\"Enter A: \"))\n",
        "b = int(input(\"Enter B: \"))\n",
        "print(a==b)\n",
        "print(a!=b)\n",
        "print(a>b)\n",
        "print(a<b)\n",
        "print(a>=b)\n",
        "print(a<=b)"
      ],
      "metadata": {
        "colab": {
          "base_uri": "https://localhost:8080/"
        },
        "id": "yjv6i0i42M-k",
        "outputId": "a081d4d8-9fa2-4f2c-bd9b-9d15c5b6f206"
      },
      "execution_count": null,
      "outputs": [
        {
          "output_type": "stream",
          "name": "stdout",
          "text": [
            "Enter A: 8\n",
            "Enter B: 3\n",
            "False\n",
            "True\n",
            "True\n",
            "False\n",
            "True\n",
            "False\n"
          ]
        }
      ]
    },
    {
      "cell_type": "code",
      "source": [
        "w = False\n",
        "x = True\n",
        "y = False\n",
        "z = True\n",
        "print(w and x)\n",
        "print(w or x)\n",
        "print(not w)\n",
        "print(w and y)\n",
        "print(w or y)\n",
        "print(not x)\n",
        "print(w and z)\n",
        "print(w or z)\n",
        "print(not y)\n",
        "print(not z)\n"
      ],
      "metadata": {
        "colab": {
          "base_uri": "https://localhost:8080/"
        },
        "id": "taFQJp1n4ElQ",
        "outputId": "a525996f-8eb8-4d85-b049-58b193acd839"
      },
      "execution_count": null,
      "outputs": [
        {
          "output_type": "stream",
          "name": "stdout",
          "text": [
            "False\n",
            "True\n",
            "True\n",
            "False\n",
            "False\n",
            "False\n",
            "False\n",
            "True\n",
            "True\n",
            "False\n"
          ]
        }
      ]
    },
    {
      "cell_type": "markdown",
      "source": [
        "a = bool(input(\"Enter T/F: \"))\n",
        "b = bool(input(\"Enter T/F: \"))\n",
        "t = True\n",
        "f = False\n",
        "print(a and b)\n",
        "print(a or b)\n",
        "print(not a)\n",
        "print(not b)"
      ],
      "metadata": {
        "id": "oWfY6abl5Q4W"
      }
    },
    {
      "cell_type": "code",
      "source": [
        "x = [1,3,6]\n",
        "y = [1,3,6]\n",
        "z = x\n",
        "print (x is z)\n",
        "print (x is y)\n",
        "print (x is not z)\n",
        "print (2 in x)\n",
        "print (7 not in y)\n",
        "print(id(x))\n",
        "print(id(y))\n",
        "print(id(z))"
      ],
      "metadata": {
        "colab": {
          "base_uri": "https://localhost:8080/"
        },
        "id": "HUngJx_d-wkV",
        "outputId": "bc9ef56c-c350-47c9-b5a6-55c74bef7576"
      },
      "execution_count": null,
      "outputs": [
        {
          "output_type": "stream",
          "name": "stdout",
          "text": [
            "True\n",
            "False\n",
            "False\n",
            "False\n",
            "True\n",
            "131969026020160\n",
            "131968117420160\n",
            "131969026020160\n"
          ]
        }
      ]
    },
    {
      "cell_type": "code",
      "source": [
        "import math as m\n",
        "print(m.sqrt(16))\n",
        "a= float(input(\"Enter 1st no: \"))\n",
        "b= float(input(\"Enter 2nd no: \"))\n",
        "c= float(input(\"Enter 3rd no: \"))\n",
        "\n",
        "p = a+b+c\n",
        "s = p/2\n",
        "x = (s*(s-a)*(s-b)*(s-c))**0.5\n",
        "\n",
        "print(\"Perimeter of triangle is\", p)\n",
        "print(\"Semi perimeter of triangle is\", s)\n",
        "print(\"Area of triangle is\", x)"
      ],
      "metadata": {
        "colab": {
          "base_uri": "https://localhost:8080/"
        },
        "id": "9gWiWguGDfBS",
        "outputId": "c6614aff-122e-4a4f-8152-28b4268bfe7f"
      },
      "execution_count": null,
      "outputs": [
        {
          "output_type": "stream",
          "name": "stdout",
          "text": [
            "4.0\n",
            "Enter 1st no: 2\n",
            "Enter 2nd no: 3\n",
            "Enter 3rd no: 4\n",
            "Perimeter of triangle is 9.0\n",
            "Semi perimeter of triangle is 4.5\n",
            "Area of triangle is 2.9047375096555625\n"
          ]
        }
      ]
    },
    {
      "cell_type": "code",
      "source": [
        "a = int(input(\"Enter 1st no: \"))\n",
        "b = int(input(\"Enter 2nd no: \"))\n",
        "\n",
        "print(\"Before swapping\", a, \"and\",b)\n",
        "\n",
        "c= a+b\n",
        "a= c-a\n",
        "b= c-b\n",
        "\n",
        "print(\"Swaped numbers are\",a ,\"and\", b)"
      ],
      "metadata": {
        "colab": {
          "base_uri": "https://localhost:8080/"
        },
        "id": "KosWMPEDHZNi",
        "outputId": "60f2f46e-4265-429d-ec48-92622e693024"
      },
      "execution_count": null,
      "outputs": [
        {
          "output_type": "stream",
          "name": "stdout",
          "text": [
            "Enter 1st no: 2\n",
            "Enter 2nd no: 10\n",
            "Before swapping 2 and 10\n",
            "Swaped numbers are 10 and 2\n"
          ]
        }
      ]
    },
    {
      "cell_type": "code",
      "source": [
        "a = int(input(\"Enter 1st no: \"))\n",
        "b = int(input(\"Enter 2nd no: \"))\n",
        "\n",
        "print(\"Before swapping numbers are\", a , \"and\", b)\n",
        "\n",
        "c = a\n",
        "a = b\n",
        "b = c\n",
        "\n",
        "print(\"Now swapped numbers are\", a , \"and\", b)"
      ],
      "metadata": {
        "colab": {
          "base_uri": "https://localhost:8080/"
        },
        "id": "FSULjrFiIP98",
        "outputId": "5d7f4d26-e650-4325-828d-efd543a4d7c7"
      },
      "execution_count": null,
      "outputs": [
        {
          "output_type": "stream",
          "name": "stdout",
          "text": [
            "Enter 1st no: 4\n",
            "Enter 2nd no: 8\n",
            "Before swapping numbers are 4 and 8\n",
            "Now swapped numbers are 8 and 4\n"
          ]
        }
      ]
    },
    {
      "cell_type": "code",
      "source": [
        "x = int(input(\"Enter 1st no: \"))\n",
        "y = int(input(\"Enter 2nd no: \"))\n",
        "\n",
        "print('Before swapping: {} and {}'.format(x,y))\n",
        "\n",
        "x = x^y\n",
        "y = x^y\n",
        "x = x^y\n",
        "\n",
        "print(\"After swapping: {} and {}\".format(x,y))"
      ],
      "metadata": {
        "colab": {
          "base_uri": "https://localhost:8080/"
        },
        "id": "QTgPS7rCKD44",
        "outputId": "20b78a86-0cbf-477f-866e-77ad2f70d904"
      },
      "execution_count": null,
      "outputs": [
        {
          "output_type": "stream",
          "name": "stdout",
          "text": [
            "Enter 1st no: 6\n",
            "Enter 2nd no: 9\n",
            "Before swapping: 6 and 9\n",
            "After swapping: 9 and 6\n"
          ]
        }
      ]
    },
    {
      "cell_type": "code",
      "source": [
        "#Farenhiet to Celcius\n",
        "\n",
        "f = float(input(\"Enter Temperature in F: \"))\n",
        "c = (f-32)*5/9\n",
        "print(\"Temperature in C is\", c)"
      ],
      "metadata": {
        "colab": {
          "base_uri": "https://localhost:8080/"
        },
        "id": "W-sIIiZ_NY2E",
        "outputId": "6a159f5d-2dbc-4f3a-c8bc-228e5698d386"
      },
      "execution_count": null,
      "outputs": [
        {
          "output_type": "stream",
          "name": "stdout",
          "text": [
            "Enter Temperature in F: 120\n",
            "Temperature in C is 48.888888888888886\n"
          ]
        }
      ]
    },
    {
      "cell_type": "code",
      "source": [
        "print(3**2**2)\n",
        "print(3**4)\n",
        "print(9**2)"
      ],
      "metadata": {
        "colab": {
          "base_uri": "https://localhost:8080/"
        },
        "id": "jSSbqUcCT_3K",
        "outputId": "d1ce49f7-7d11-4d94-cb09-7fde3fc3a37e"
      },
      "execution_count": null,
      "outputs": [
        {
          "output_type": "stream",
          "name": "stdout",
          "text": [
            "81\n",
            "81\n",
            "81\n"
          ]
        }
      ]
    },
    {
      "cell_type": "code",
      "source": [
        "# Input days, months, hours, minutes, seconds and print in seconds\n",
        "days = int(input(\"Enter days: \"))\n",
        "months = int(input(\"Enter months: \"))\n",
        "hours = int(input(\"Enter hours: \"))\n",
        "minutes = int(input(\"Enter minutes: \"))\n",
        "seconds = int(input(\"Enter seconds: \"))\n",
        "print(\"Total seconds are\", days*86400+months*2592000+hours*3600+minutes*60+seconds)\n",
        "print(\"Total seconds are\", days*24*60*60+months*30*24*60*60+hours*60*60+minutes*60+seconds)"
      ],
      "metadata": {
        "colab": {
          "base_uri": "https://localhost:8080/"
        },
        "id": "GxHAy7wSUZqc",
        "outputId": "650d6702-28fd-4237-801c-3688cf956a26"
      },
      "execution_count": null,
      "outputs": [
        {
          "output_type": "stream",
          "name": "stdout",
          "text": [
            "Enter days: 33\n",
            "Enter months: 54\n",
            "Enter hours: 97\n",
            "Enter minutes: 444\n",
            "Enter seconds: 295\n",
            "Total seconds are 143195335\n",
            "Total seconds are 143195335\n"
          ]
        }
      ]
    },
    {
      "cell_type": "code",
      "source": [
        "# Distance between two points\n",
        "x1 = int(input(\"Enter x1: \"))\n",
        "y1 = int(input(\"Enter y1: \"))\n",
        "x2 = int(input(\"Enter x2: \"))\n",
        "y2 = int(input(\"Enter y2: \"))\n",
        "\n",
        "dist = ((x2 - x1)**2 + (y2 - y1)**2)**0.5\n",
        "approx = (\"%.2f\"%dist)\n",
        "print(dist)\n",
        "print(approx)"
      ],
      "metadata": {
        "colab": {
          "base_uri": "https://localhost:8080/"
        },
        "id": "hi5vp9MeWnls",
        "outputId": "b8054f12-2bab-46aa-c6ca-70e7dd3b8dc3"
      },
      "execution_count": null,
      "outputs": [
        {
          "output_type": "stream",
          "name": "stdout",
          "text": [
            "Enter x1: 3\n",
            "Enter y1: 2\n",
            "Enter x2: 1\n",
            "Enter y2: 2\n",
            "2.0\n",
            "2.00\n"
          ]
        }
      ]
    },
    {
      "cell_type": "code",
      "source": [
        "x =[3,2]\n",
        "y =[2,1]\n",
        "\n",
        "distance = ((y[0]-x[0])**2+(y[1]-x[1])**2)**0.5\n",
        "print(distance)\n",
        "\n"
      ],
      "metadata": {
        "colab": {
          "base_uri": "https://localhost:8080/"
        },
        "id": "ueRVCQtLW5n5",
        "outputId": "22a76546-8fff-41eb-b87b-8ec3d7c0a198"
      },
      "execution_count": null,
      "outputs": [
        {
          "output_type": "stream",
          "name": "stdout",
          "text": [
            "1.4142135623730951\n"
          ]
        }
      ]
    },
    {
      "cell_type": "code",
      "source": [
        "# Calander of a month\n",
        "\n",
        "import calendar\n",
        "\n",
        "month = int(input(\"Enter month: \"))\n",
        "year = int(input(\"Enter year: \"))\n",
        "\n",
        "print(calendar.month(year,month))\n"
      ],
      "metadata": {
        "colab": {
          "base_uri": "https://localhost:8080/"
        },
        "id": "qF4pXvGOZjHL",
        "outputId": "7f88d9ce-0fc1-4a6e-ba7b-6e99f5ec257b"
      },
      "execution_count": null,
      "outputs": [
        {
          "output_type": "stream",
          "name": "stdout",
          "text": [
            "Enter month: 12\n",
            "Enter year: 2099\n",
            "   December 2099\n",
            "Mo Tu We Th Fr Sa Su\n",
            "    1  2  3  4  5  6\n",
            " 7  8  9 10 11 12 13\n",
            "14 15 16 17 18 19 20\n",
            "21 22 23 24 25 26 27\n",
            "28 29 30 31\n",
            "\n"
          ]
        }
      ]
    },
    {
      "cell_type": "code",
      "source": [
        "x = int(input(\"Enter 1st no: \"))\n",
        "y = int(input(\"Enter 2nd no: \"))\n",
        "\n",
        "print('Before swapping: {} and {}'.format(x,y))\n",
        "\n",
        "x ^= y\n",
        "y ^= x\n",
        "x ^= y\n",
        "\n",
        "print(\"After swapping: {} and {}\".format(x,y))"
      ],
      "metadata": {
        "colab": {
          "base_uri": "https://localhost:8080/"
        },
        "id": "jLVykL7EIxhj",
        "outputId": "d355d7b7-7707-481c-b70d-b6109c374dcc"
      },
      "execution_count": null,
      "outputs": [
        {
          "output_type": "stream",
          "name": "stdout",
          "text": [
            "Enter 1st no: 2\n",
            "Enter 2nd no: 4\n",
            "Before swapping: 2 and 4\n",
            "After swapping: 4 and 2\n"
          ]
        }
      ]
    },
    {
      "cell_type": "markdown",
      "source": [
        "#DAY 3\n"
      ],
      "metadata": {
        "id": "NUL0FlBQqlKl"
      }
    },
    {
      "cell_type": "code",
      "source": [
        "# Volume of a cylinder\n",
        "\n",
        "r = float(input(\"Enter radius: \"))\n",
        "h = float(input(\"Enter height: \"))\n",
        "\n",
        "print(\"Volume of cylinder is\", 3.14*r*r*h)"
      ],
      "metadata": {
        "colab": {
          "base_uri": "https://localhost:8080/"
        },
        "id": "lPkMORXbI0rs",
        "outputId": "1bf29875-19fb-4963-bf94-c7658a4a1f88"
      },
      "execution_count": null,
      "outputs": [
        {
          "output_type": "stream",
          "name": "stdout",
          "text": [
            "Enter radius: 9.2\n",
            "Enter height: 5\n",
            "Volume of cylinder is 1328.848\n"
          ]
        }
      ]
    },
    {
      "cell_type": "code",
      "source": [
        "\n",
        "name = \"Python is easy\"\n",
        "       #01234567891234\n",
        "\n",
        "a = name[0:6]\n",
        "b = name[0::]\n",
        "c = name[1::2]  #for even\n",
        "d = name[0::3]\n",
        "e = name[0:14:2] #for odd\n",
        "f = name[0::2]   #for odd\n",
        "g = name[::-1]\n",
        "h = name[::2] #for odd\n",
        "i = name[10::-2]\n",
        "j = name[0::-2]\n",
        "\n",
        "print(a)\n",
        "print(b)\n",
        "print(c)\n",
        "print(d)\n",
        "print(e)\n",
        "print(f)\n",
        "print(g)\n",
        "print(h)\n",
        "print(i)\n",
        "print(j)"
      ],
      "metadata": {
        "colab": {
          "base_uri": "https://localhost:8080/"
        },
        "id": "fHPr3G0lkNHg",
        "outputId": "c2fbf62f-cc2d-43be-e16f-8c25b8e9a85d"
      },
      "execution_count": null,
      "outputs": [
        {
          "output_type": "stream",
          "name": "stdout",
          "text": [
            "Python\n",
            "Python is easy\n",
            "yhni ay\n",
            "Ph  s\n",
            "Pto ses\n",
            "Pto ses\n",
            "ysae si nohtyP\n",
            "Pto ses\n",
            "es otP\n",
            "P\n"
          ]
        }
      ]
    },
    {
      "cell_type": "code",
      "source": [
        "text = \" Python niche \"\n",
        "text1 = \"geeks and others\"\n",
        "print(len(text))\n",
        "print(text, len(text))\n",
        "print(text.lower())\n",
        "print(text.upper())\n",
        "print(text.capitalize())\n",
        "print(text.title())\n",
        "print(text.swapcase())\n",
        "print(text.split())\n",
        "print(text.strip())\n",
        "print(text.lstrip())\n",
        "print(text.rstrip())\n",
        "print(text.center(99))\n",
        "print(text.replace(\"niche\", \"alright\"))\n",
        "print(text.find('niche'))\n",
        "print(text.join(text1))\n",
        "slice_obj = slice(3,8)\n",
        "print(text[slice_obj])"
      ],
      "metadata": {
        "colab": {
          "base_uri": "https://localhost:8080/"
        },
        "id": "7Y8izSIr_h52",
        "outputId": "b0002b2a-c453-41b8-b7ab-9afc52db7ab9"
      },
      "execution_count": null,
      "outputs": [
        {
          "output_type": "stream",
          "name": "stdout",
          "text": [
            "14\n",
            " Python niche  14\n",
            " python niche \n",
            " PYTHON NICHE \n",
            " python niche \n",
            " Python Niche \n",
            " pYTHON NICHE \n",
            "['Python', 'niche']\n",
            "Python niche\n",
            "Python niche \n",
            " Python niche\n",
            "                                            Python niche                                           \n",
            " Python alright \n",
            "8\n",
            "g Python niche e Python niche e Python niche k Python niche s Python niche   Python niche a Python niche n Python niche d Python niche   Python niche o Python niche t Python niche h Python niche e Python niche r Python niche s\n",
            "thon \n"
          ]
        }
      ]
    },
    {
      "cell_type": "code",
      "source": [
        "# to convert string from upper to lower and lower to upper\n",
        "\n",
        "text = \"BeTtEr ClAsSeS\"\n",
        "print(text.swapcase())\n",
        "print(text.lower())\n",
        "print(text.upper())"
      ],
      "metadata": {
        "colab": {
          "base_uri": "https://localhost:8080/"
        },
        "id": "23Ib7VDuGR6X",
        "outputId": "716d8341-97c3-47f8-9a04-e2d2f138a6db"
      },
      "execution_count": null,
      "outputs": [
        {
          "output_type": "stream",
          "name": "stdout",
          "text": [
            "bEtTeR cLaSsEs\n",
            "better classes\n",
            "BETTER CLASSES\n"
          ]
        }
      ]
    },
    {
      "cell_type": "code",
      "source": [
        "# to reverse the string\n",
        "\n",
        "text = str(input(\"Enter your text: \"))\n",
        "print(text[::-1])"
      ],
      "metadata": {
        "colab": {
          "base_uri": "https://localhost:8080/"
        },
        "id": "cw09P7yJJAxh",
        "outputId": "d57d7643-c913-4efc-f422-3fa8584d5fe2"
      },
      "execution_count": null,
      "outputs": [
        {
          "output_type": "stream",
          "name": "stdout",
          "text": [
            "Enter your text: 2RDR\n",
            "RDR2\n"
          ]
        }
      ]
    },
    {
      "cell_type": "code",
      "source": [
        "# to check if a string is palindrome or not\n",
        "\n",
        "text = str(input(\"Enter your word: \"))\n",
        "text1 = text[::-1]\n",
        "\n",
        "if text == text1:\n",
        "    print(\"Palindrome\")\n",
        "else:\n",
        "    print(\"Not Palindrome\")\n",
        "\n",
        "print(text)\n",
        "print(text1)"
      ],
      "metadata": {
        "colab": {
          "base_uri": "https://localhost:8080/"
        },
        "id": "qW3c8nbmJDz8",
        "outputId": "1ea31cc8-f57d-4c7d-d314-77a82f4bb1c2"
      },
      "execution_count": null,
      "outputs": [
        {
          "output_type": "stream",
          "name": "stdout",
          "text": [
            "Enter your word: word\n",
            "Not Palindrome\n",
            "word\n",
            "drow\n"
          ]
        }
      ]
    },
    {
      "cell_type": "code",
      "source": [
        "# to concetinate a string\n",
        "\n",
        "text = str(input(\"Text 1: \"))\n",
        "text1 = str(input(\"Text 2: \"))\n",
        "\n",
        "print(text + text1)\n"
      ],
      "metadata": {
        "colab": {
          "base_uri": "https://localhost:8080/"
        },
        "id": "EmxJ4huLNgmE",
        "outputId": "87cdd943-2b1e-4472-9fcc-9491208d2223"
      },
      "execution_count": null,
      "outputs": [
        {
          "output_type": "stream",
          "name": "stdout",
          "text": [
            "Text 1: sheez\n",
            "Text 2: classes\n",
            "sheezclasses\n"
          ]
        }
      ]
    },
    {
      "cell_type": "code",
      "source": [
        "# length of string\n",
        "\n",
        "text = str(input(\"Enter your text: \"))\n",
        "print(len(text))"
      ],
      "metadata": {
        "colab": {
          "base_uri": "https://localhost:8080/"
        },
        "id": "9ECdIvXqNpIt",
        "outputId": "94be8dcf-91c5-4edf-ae09-b416eb5f7b43"
      },
      "execution_count": null,
      "outputs": [
        {
          "output_type": "stream",
          "name": "stdout",
          "text": [
            "Enter your text: ratsass\n",
            "7\n"
          ]
        }
      ]
    },
    {
      "cell_type": "code",
      "source": [
        "# count number of vowels in a string\n",
        "\n",
        "word = input(\"You may enter your word: \")\n",
        "vowels = \"aeiouAEIOU\"\n",
        "\n",
        "print( sum(1 for char in word if char in vowels))"
      ],
      "metadata": {
        "colab": {
          "base_uri": "https://localhost:8080/"
        },
        "id": "B8jWbmTiOW07",
        "outputId": "a445b16a-3209-453c-9a8e-5fe608509e51"
      },
      "execution_count": null,
      "outputs": [
        {
          "output_type": "stream",
          "name": "stdout",
          "text": [
            "You may enter your word: ellano\n",
            "3\n"
          ]
        }
      ]
    },
    {
      "cell_type": "code",
      "source": [
        "# another way (generative)\n",
        "\n",
        "word = input(\"Enter your word: \")\n",
        "vowels = \"aeiouAEIOU\"\n",
        "vowel_count = 0\n",
        "conso_count = 0\n",
        "\n",
        "for char in word:\n",
        "    if char in vowels:\n",
        "        vowel_count += 1\n",
        "\n",
        "for char in word:\n",
        "    if char not in vowels:\n",
        "        conso_count += 1\n",
        "\n",
        "print(f\"Number of vowels: {vowel_count}\")\n",
        "print(f\"Number of consonants: {conso_count}\")\n",
        "\n"
      ],
      "metadata": {
        "colab": {
          "base_uri": "https://localhost:8080/"
        },
        "id": "ScAIf3i2QWVZ",
        "outputId": "f5118351-3785-4550-e99e-f4d0b148aafc"
      },
      "execution_count": null,
      "outputs": [
        {
          "output_type": "stream",
          "name": "stdout",
          "text": [
            "Enter your word: vowels\n",
            "Number of vowels: 2\n",
            "Number of consonants: 4\n"
          ]
        }
      ]
    },
    {
      "cell_type": "code",
      "source": [
        "# count vowels and consonants in a string\n",
        "\n",
        "word = input(\"You may enter your word: \")\n",
        "vowels = \"aeiouAEIOU\"\n",
        "\n",
        "print(\"Number of vowels: \" ,sum(1 for char in word if char in vowels))\n",
        "print(\"Number of consonants\" ,sum(1 for char in word or char .isalpha() if char not in vowels))"
      ],
      "metadata": {
        "colab": {
          "base_uri": "https://localhost:8080/"
        },
        "id": "W3AMNlwPQevx",
        "outputId": "588e085c-4e9a-4f8d-e9f6-0f297df30c75"
      },
      "execution_count": null,
      "outputs": [
        {
          "output_type": "stream",
          "name": "stdout",
          "text": [
            "You may enter your word: fuck yeah\n",
            "Number of vowels:  3\n",
            "Number of consonants 6\n"
          ]
        }
      ]
    },
    {
      "cell_type": "code",
      "source": [
        "# length of string without using len\n",
        "\n",
        "text = str(input(\"Enter a number: \"))\n",
        "\n",
        "length = sum(1 for i in text)\n",
        "\n",
        "print(length)\n"
      ],
      "metadata": {
        "colab": {
          "base_uri": "https://localhost:8080/"
        },
        "id": "MeREgKNXQaQN",
        "outputId": "fe51c96b-3590-46fd-94e6-a0705b8113bb"
      },
      "execution_count": null,
      "outputs": [
        {
          "output_type": "stream",
          "name": "stdout",
          "text": [
            "Enter a number: weehhy\n",
            "6\n"
          ]
        }
      ]
    },
    {
      "cell_type": "markdown",
      "source": [
        "#DAY 4\n"
      ],
      "metadata": {
        "id": "4Rh5c7EMet60"
      }
    },
    {
      "cell_type": "code",
      "source": [
        "# lexciographical sorting (dictionary sorting)\n"
      ],
      "metadata": {
        "id": "QHq2r50WKsYN"
      },
      "execution_count": null,
      "outputs": []
    },
    {
      "cell_type": "code",
      "source": [
        "# to remove all consonants\n",
        "\n",
        "text = str(input(\"Enter your text: \"))\n",
        "vowels = \"aeiouAEIOU\"\n",
        "\n",
        "for char in text:\n",
        "    if char not in vowels:\n",
        "        text = text.replace(char, \"\")\n",
        "\n",
        "print(text)\n"
      ],
      "metadata": {
        "colab": {
          "base_uri": "https://localhost:8080/"
        },
        "id": "rwnJyojcLnSq",
        "outputId": "fa341803-221f-4b04-caa2-0ddcac5837e4"
      },
      "execution_count": null,
      "outputs": [
        {
          "output_type": "stream",
          "name": "stdout",
          "text": [
            "Enter your text: what is this\n",
            "aii\n"
          ]
        }
      ]
    },
    {
      "cell_type": "code",
      "source": [
        "text = str(input(\"Enter your text: \"))\n",
        "vowels = \"aeiouAEIOU\"\n",
        "\n",
        "final_text = \"\" .join(char for char in text if char in vowels)\n",
        "\n",
        "print(final_text)"
      ],
      "metadata": {
        "colab": {
          "base_uri": "https://localhost:8080/"
        },
        "id": "eFp5y7pEMlpT",
        "outputId": "bfbc31ce-9c17-4e19-9006-8004fc043a35"
      },
      "execution_count": null,
      "outputs": [
        {
          "output_type": "stream",
          "name": "stdout",
          "text": [
            "Enter your text: spiritual parasite\n",
            "iiuaaaie\n"
          ]
        }
      ]
    },
    {
      "cell_type": "code",
      "source": [
        "# to rotate a string\n",
        "\n",
        "text = str(input(\"Enter your sentence: \"))\n",
        "\n",
        "my_list = text.split()\n",
        "\n",
        "new_list = my_list[3] + \" \" + my_list[0] + \" \" + my_list[1] + \" \" + my_list[2]\n",
        "\n",
        "print(new_list)"
      ],
      "metadata": {
        "colab": {
          "base_uri": "https://localhost:8080/"
        },
        "id": "_yTaHHYHLtkb",
        "outputId": "6888f476-a65b-46bc-afcf-acead874299f"
      },
      "execution_count": null,
      "outputs": [
        {
          "output_type": "stream",
          "name": "stdout",
          "text": [
            "Enter your sentence: this not work why\n",
            "why this not work\n"
          ]
        }
      ]
    },
    {
      "cell_type": "code",
      "source": [
        "# rotate a string\n",
        "\n",
        "text = str(input(\"Enter text: \"))\n",
        "n = len(text)\n",
        "\n",
        "text1 = slice(0,4)\n",
        "text2 = slice(4,n)\n",
        "\n",
        "print(text[text2] + \" \" + text[text1])\n"
      ],
      "metadata": {
        "colab": {
          "base_uri": "https://localhost:8080/"
        },
        "id": "2mma7VGkP_hg",
        "outputId": "4cbcb99e-2add-4fed-b5e1-1f734cc8caa2"
      },
      "execution_count": null,
      "outputs": [
        {
          "output_type": "stream",
          "name": "stdout",
          "text": [
            "Enter text: fish what the\n",
            " what the fish\n"
          ]
        }
      ]
    },
    {
      "cell_type": "code",
      "source": [
        "\n",
        "# find longest word in string and its length\n",
        "\n",
        "string = str(input(\"Enter your string: \"))\n",
        "my_list = string.split()\n",
        "\n",
        "longest_word = max(my_list, key=len)\n",
        "\n",
        "print(longest_word)\n",
        "print(len(longest_word))"
      ],
      "metadata": {
        "colab": {
          "base_uri": "https://localhost:8080/"
        },
        "id": "fDt5h-tWW_7P",
        "outputId": "c45b47bd-e23c-409f-9b36-b269aa523536"
      },
      "execution_count": null,
      "outputs": [
        {
          "output_type": "stream",
          "name": "stdout",
          "text": [
            "Enter your string: working now\n",
            "working\n",
            "7\n"
          ]
        }
      ]
    },
    {
      "cell_type": "code",
      "source": [
        "# find number of words in string\n",
        "\n",
        "string = str(input(\"Enter your string: \"))\n",
        "my_list = string.split()\n",
        "\n",
        "print(len(my_list))\n"
      ],
      "metadata": {
        "colab": {
          "base_uri": "https://localhost:8080/"
        },
        "id": "-doKH1f6XKQZ",
        "outputId": "abafaf65-cdb0-40fc-d728-b8ffdf863910"
      },
      "execution_count": null,
      "outputs": [
        {
          "output_type": "stream",
          "name": "stdout",
          "text": [
            "Enter your string: all are dumdum\n",
            "3\n"
          ]
        }
      ]
    },
    {
      "cell_type": "code",
      "source": [
        "# extract the initials of a string and display in upper case\n",
        "\n",
        "text = str(input(\"Enter string: \"))\n",
        "my_list = text.split()\n",
        "\n",
        "for i in my_list:\n",
        "    print(i[0].upper(), end=\"\")\n"
      ],
      "metadata": {
        "colab": {
          "base_uri": "https://localhost:8080/"
        },
        "id": "hlkHMnvRXXrA",
        "outputId": "5220452b-7b8f-45cc-d8c4-921e4e238e64"
      },
      "execution_count": null,
      "outputs": [
        {
          "output_type": "stream",
          "name": "stdout",
          "text": [
            "Enter string: red dead redemption 2\n",
            "RDR2"
          ]
        }
      ]
    },
    {
      "cell_type": "code",
      "source": [
        "# try another way\n",
        "text = str(input(\"Enter string: \"))\n",
        "my_list = text.split()\n",
        "\n",
        "initial = \"\" .join(n[0] for n in my_list)\n",
        "\n",
        "print(initial.upper())"
      ],
      "metadata": {
        "colab": {
          "base_uri": "https://localhost:8080/"
        },
        "id": "oenNJYL_ase5",
        "outputId": "ce9c3952-72b8-4384-e43d-21ba457506fd"
      },
      "execution_count": null,
      "outputs": [
        {
          "output_type": "stream",
          "name": "stdout",
          "text": [
            "Enter string: roku jj desu\n",
            "RJD\n"
          ]
        }
      ]
    },
    {
      "cell_type": "code",
      "source": [
        "a = int(input(\"Enter your age: \"))\n",
        "\n",
        "if a>=18:\n",
        "    print(\"You can vote\")\n",
        "\n",
        "else :\n",
        "    print(\"You can't vote\")\n",
        "print(\"You are Indian\")"
      ],
      "metadata": {
        "colab": {
          "base_uri": "https://localhost:8080/"
        },
        "id": "bof7v2HfqxY8",
        "outputId": "1d881248-173e-4b09-895c-00bc4648b390"
      },
      "execution_count": null,
      "outputs": [
        {
          "output_type": "stream",
          "name": "stdout",
          "text": [
            "Enter your age: 55\n",
            "You can vote\n",
            "You are Indian\n"
          ]
        }
      ]
    },
    {
      "cell_type": "markdown",
      "source": [
        "# DAY 5\n"
      ],
      "metadata": {
        "id": "2nRZDOZ04ous"
      }
    },
    {
      "cell_type": "code",
      "source": [
        "# grading marks:\n",
        "\n",
        "marks = int(input(\"Your marks: \"))\n",
        "\n",
        "if marks >= 90:\n",
        "    print(\"Grade A\")\n",
        "elif marks >= 80:\n",
        "    print(\"Grade B\")\n",
        "elif marks >= 70:\n",
        "    print(\"Grade C\")\n",
        "elif marks >= 60:\n",
        "    print(\"Grade D\")\n",
        "elif marks >= 40:\n",
        "    print(\"Grade E\")\n",
        "else:\n",
        "    print(\"Grade F\")\n"
      ],
      "metadata": {
        "colab": {
          "base_uri": "https://localhost:8080/"
        },
        "id": "aohwqWdBdZVB",
        "outputId": "f0d951fd-f38f-45dd-ed88-19cb98c9274d"
      },
      "execution_count": null,
      "outputs": [
        {
          "output_type": "stream",
          "name": "stdout",
          "text": [
            "Your marks: 91\n",
            "Grade A\n"
          ]
        }
      ]
    },
    {
      "cell_type": "code",
      "source": [
        "# overall grade\n",
        "\n",
        "eng = float(input(\"English: \"))\n",
        "math = float(input(\"Mathematics: \"))\n",
        "phy = float(input(\"Physics: \"))\n",
        "aero = float(input(\"Aerospace: \"))\n",
        "pyth = float(input(\"Python: \"))\n",
        "\n",
        "marks = ((eng + math + phy + aero + pyth)/500)*100\n",
        "\n",
        "if marks >= 90:\n",
        "    print(\"Grade A\")\n",
        "elif marks >= 80:\n",
        "    print(\"Grade B\")\n",
        "elif marks >= 70:\n",
        "    print(\"Grade C\")\n",
        "elif marks >= 60:\n",
        "    print(\"Grade D\")\n",
        "elif marks >=40:\n",
        "    print(\"Grade E\")\n",
        "else :\n",
        "    print(\"Grade F\")"
      ],
      "metadata": {
        "colab": {
          "base_uri": "https://localhost:8080/"
        },
        "id": "ME9kfN-tgId2",
        "outputId": "e7dcd06a-5461-42ed-d2b5-2a3c882d5a06"
      },
      "execution_count": null,
      "outputs": [
        {
          "output_type": "stream",
          "name": "stdout",
          "text": [
            "English: 93\n",
            "Mathematics: 79\n",
            "Physics: 67\n",
            "Aerospace: 87\n",
            "Python: 95\n",
            "Grade B\n"
          ]
        }
      ]
    },
    {
      "cell_type": "code",
      "source": [
        "# trying nested if\n",
        "\n",
        "age = int(input(\"Enter age: \"))\n",
        "citizen = str(input(\"Enter country: \"))\n",
        "\n",
        "if age>=18:\n",
        "    if citizen == \"India\" or citizen == \"india\":\n",
        "        print(\"You can vote\")\n",
        "    else:\n",
        "        print(\"You can't vote\")\n",
        "\n",
        "else:\n",
        "    print(\"You can't vote\")\n"
      ],
      "metadata": {
        "colab": {
          "base_uri": "https://localhost:8080/"
        },
        "id": "RFd0SQvzhnm3",
        "outputId": "a20fe40c-17ab-445b-c369-1929e70ddb3c"
      },
      "execution_count": null,
      "outputs": [
        {
          "output_type": "stream",
          "name": "stdout",
          "text": [
            "Enter age: 17\n",
            "Enter country: india\n",
            "You can't vote\n"
          ]
        }
      ]
    },
    {
      "cell_type": "code",
      "source": [
        "# another way\n",
        "\n",
        "age = int(input(\"Enter age: \"))\n",
        "citizen = str(input(\"Enter country of origin: \"))\n",
        "\n",
        "if age<=17:\n",
        "    print(\"You can't vote\")\n",
        "else :\n",
        "    if citizen == \"India\" or citizen == \"india\":\n",
        "      print(\"You can vote\")\n",
        "    else :\n",
        "      print(\"You can't vote\")"
      ],
      "metadata": {
        "colab": {
          "base_uri": "https://localhost:8080/"
        },
        "id": "HMFQ5O7qkQ3y",
        "outputId": "6b8405f4-f3b5-4e26-c327-9a2e4af74d24"
      },
      "execution_count": null,
      "outputs": [
        {
          "output_type": "stream",
          "name": "stdout",
          "text": [
            "Enter age: 22\n",
            "Enter country of origin: delhi\n",
            "You can't vote\n"
          ]
        }
      ]
    },
    {
      "cell_type": "code",
      "source": [
        "# check if two integers are equal\n",
        "\n",
        "a = int(input(\"Enter first number: \"))\n",
        "b = int(input(\"Enter second number: \"))\n",
        "\n",
        "if a == b:\n",
        "    print(\"Number Equal\")\n",
        "else:\n",
        "    print(\"Not Equal\")"
      ],
      "metadata": {
        "colab": {
          "base_uri": "https://localhost:8080/"
        },
        "id": "ZmqeUIr0loLs",
        "outputId": "04fe6a05-72ac-4ec1-e420-c4355ceb117d"
      },
      "execution_count": null,
      "outputs": [
        {
          "output_type": "stream",
          "name": "stdout",
          "text": [
            "Enter first number: 33\n",
            "Enter second number: 33\n",
            "Number Equal\n"
          ]
        }
      ]
    },
    {
      "cell_type": "code",
      "source": [
        "# find greatest of 3 numbers using elif\n",
        "\n",
        "a = int(input(\"Enter A: \"))\n",
        "b = int(input(\"Enter B: \"))\n",
        "c = int(input(\"Enter C: \"))\n",
        "\n",
        "if a > b and a > c:\n",
        "   print(\"A greatest\")\n",
        "elif b > a and b > c:\n",
        "   print(\"B greatest\")\n",
        "else:\n",
        "    print(\"C greatest\")"
      ],
      "metadata": {
        "colab": {
          "base_uri": "https://localhost:8080/"
        },
        "id": "JhGbadEJlwpf",
        "outputId": "200e9c64-1e97-4840-8e9c-0bff48ddadc3"
      },
      "execution_count": null,
      "outputs": [
        {
          "output_type": "stream",
          "name": "stdout",
          "text": [
            "Enter A: 3\n",
            "Enter B: 76\n",
            "Enter C: 99\n",
            "C greatest\n"
          ]
        }
      ]
    },
    {
      "cell_type": "code",
      "source": [
        "# greatset integer using nested if\n",
        "\n",
        "a = int(input(\"Enter A: \"))\n",
        "b = int(input(\"Enter B: \"))\n",
        "c = int(input(\"Enter C: \"))\n",
        "\n",
        "if a > b:\n",
        "    if b > c:\n",
        "     print(\"A greatest\")\n",
        "    elif c >a :\n",
        "     print(\"C greatest\")\n",
        "else :\n",
        "   print(\"B greatest\")"
      ],
      "metadata": {
        "colab": {
          "base_uri": "https://localhost:8080/"
        },
        "id": "1Qy_TnFnl-FU",
        "outputId": "3265a2cd-63b4-4f94-a505-376ade29822a"
      },
      "execution_count": null,
      "outputs": [
        {
          "output_type": "stream",
          "name": "stdout",
          "text": [
            "Enter A: 46\n",
            "Enter B: 34\n",
            "Enter C: 99\n",
            "C greatest\n"
          ]
        }
      ]
    },
    {
      "cell_type": "code",
      "source": [
        "# if the year is leap year\n",
        "\n",
        "year = int(input(\"Enter year: \"))\n",
        "\n",
        "if year%4 == 0:\n",
        "  print(\"Leap Year\")\n",
        "else:\n",
        "  print(\"Normal Year\")"
      ],
      "metadata": {
        "colab": {
          "base_uri": "https://localhost:8080/"
        },
        "id": "2gDbDrI7vbT0",
        "outputId": "f5a8b325-4bf6-4650-d102-1cb361aa6e66"
      },
      "execution_count": null,
      "outputs": [
        {
          "output_type": "stream",
          "name": "stdout",
          "text": [
            "Enter year: 2025\n",
            "Normal Year\n"
          ]
        }
      ]
    },
    {
      "cell_type": "code",
      "source": [
        "# check is last digit of a number is even or not\n",
        "\n",
        "num = (input(\"Number: \"))\n",
        "\n",
        "\n",
        "if num[-1] == 2 and 4 and 6 and 8:\n",
        "  print(\"Even\")\n",
        "elif num[-1] == 0 :\n",
        "  print(\"Zero\")\n",
        "else :\n",
        "  print(\"Odd\")\n"
      ],
      "metadata": {
        "colab": {
          "base_uri": "https://localhost:8080/"
        },
        "id": "9YDFsFf2vLYv",
        "outputId": "e9a62452-6649-4031-c377-8692fc21f329"
      },
      "execution_count": null,
      "outputs": [
        {
          "output_type": "stream",
          "name": "stdout",
          "text": [
            "Number: 32\n",
            "Odd\n"
          ]
        }
      ]
    },
    {
      "cell_type": "code",
      "source": [
        "# check if a triangle is skelen, isoceles, equi\n",
        "\n",
        "a = int(input(\"1st side: \"))\n",
        "b = int(input(\"2nd side: \"))\n",
        "c = int(input(\"3rd side: \"))\n",
        "\n",
        "if a==b==c:\n",
        "  print(\"Equivalent\")\n",
        "elif a!=b!=c :\n",
        "  print(\"Skelen\")\n",
        "else :\n",
        "   print(\"Isoceles\")"
      ],
      "metadata": {
        "colab": {
          "base_uri": "https://localhost:8080/"
        },
        "id": "P0nMarvVvUR3",
        "outputId": "657606a5-d73b-4a2c-ab81-dde1754ae1d2"
      },
      "execution_count": null,
      "outputs": [
        {
          "output_type": "stream",
          "name": "stdout",
          "text": [
            "1st side: 2\n",
            "2nd side: 3\n",
            "3rd side: 3\n",
            "Isoceles\n"
          ]
        }
      ]
    },
    {
      "cell_type": "code",
      "source": [
        "i = 1\n",
        "while i <7:\n",
        "  print(i)\n",
        "  i += 2\n",
        "\n",
        "for i in range(1,6):\n",
        "  print(i)\n",
        "\n",
        "for h in range(3):\n",
        "  print(h)\n",
        "else:\n",
        "  print(\"loop comp\")\n",
        "\n",
        "for g in range(4):\n",
        " print(g)"
      ],
      "metadata": {
        "colab": {
          "base_uri": "https://localhost:8080/"
        },
        "id": "lTk2D2CGV6MH",
        "outputId": "bda5bfc2-dcfa-4528-bce9-4b31e34a2047"
      },
      "execution_count": null,
      "outputs": [
        {
          "output_type": "stream",
          "name": "stdout",
          "text": [
            "1\n",
            "3\n",
            "5\n",
            "1\n",
            "2\n",
            "3\n",
            "4\n",
            "5\n",
            "0\n",
            "1\n",
            "2\n",
            "loop comp\n",
            "0\n",
            "1\n",
            "2\n",
            "3\n"
          ]
        }
      ]
    },
    {
      "cell_type": "code",
      "source": [
        "i = 1\n",
        "while i <= 17:\n",
        "  print(i)\n",
        "  if i == 13:\n",
        "    break\n",
        "  i += 2"
      ],
      "metadata": {
        "colab": {
          "base_uri": "https://localhost:8080/"
        },
        "id": "K0oflqXMZ4vC",
        "outputId": "42a869b6-e3e2-4d71-b6c3-7bf4a01412ae"
      },
      "execution_count": null,
      "outputs": [
        {
          "output_type": "stream",
          "name": "stdout",
          "text": [
            "1\n",
            "3\n",
            "5\n",
            "7\n",
            "9\n",
            "11\n",
            "13\n"
          ]
        }
      ]
    },
    {
      "cell_type": "code",
      "source": [
        "# find prime number\n",
        "\n",
        "n = int(input(\"Enter number: \"))\n",
        "sum = 0\n",
        "\n",
        "while\n",
        "\n",
        "if (sum == n):\n",
        "  print(\"Perfect\")\n",
        "else:\n",
        "  print(\"Not Perfect\")"
      ],
      "metadata": {
        "id": "z6a0iXLbeaPX"
      },
      "execution_count": null,
      "outputs": []
    },
    {
      "cell_type": "code",
      "source": [
        "# table of 5\n",
        "\n",
        "n = int(input(\"Enter Number: \"))\n",
        "i = 1\n",
        "\n",
        "while i <= 10:\n",
        "  print(n,\"x\",i,\"=\",n*i)\n",
        "  i += 1"
      ],
      "metadata": {
        "colab": {
          "base_uri": "https://localhost:8080/"
        },
        "id": "Cud7Qyp4foYr",
        "outputId": "2868fc15-e2ee-497e-d13e-559a46dd4f14"
      },
      "execution_count": null,
      "outputs": [
        {
          "output_type": "stream",
          "name": "stdout",
          "text": [
            "Enter Number: 8\n",
            "8 x 1 = 8\n",
            "8 x 2 = 16\n",
            "8 x 3 = 24\n",
            "8 x 4 = 32\n",
            "8 x 5 = 40\n",
            "8 x 6 = 48\n",
            "8 x 7 = 56\n",
            "8 x 8 = 64\n",
            "8 x 9 = 72\n",
            "8 x 10 = 80\n"
          ]
        }
      ]
    },
    {
      "cell_type": "code",
      "source": [
        "n = int(input(\"Enter Number: \"))\n",
        "\n",
        "for i in range(1,11):\n",
        "  print(n,\"x\",i,\"=\",n*i)"
      ],
      "metadata": {
        "colab": {
          "base_uri": "https://localhost:8080/"
        },
        "id": "AYcK1ophgouN",
        "outputId": "c9eca655-79bb-4bdd-c656-b41510c1602f"
      },
      "execution_count": null,
      "outputs": [
        {
          "output_type": "stream",
          "name": "stdout",
          "text": [
            "Enter Number: 5\n",
            "5 x 1 = 5\n",
            "5 x 2 = 10\n",
            "5 x 3 = 15\n",
            "5 x 4 = 20\n",
            "5 x 5 = 25\n",
            "5 x 6 = 30\n",
            "5 x 7 = 35\n",
            "5 x 8 = 40\n",
            "5 x 9 = 45\n",
            "5 x 10 = 50\n"
          ]
        }
      ]
    },
    {
      "cell_type": "code",
      "source": [
        "for a in range(0,3):\n",
        "  for b in range(0,10):\n",
        "    print(a, end=\"\")\n",
        "    print(b, end=\" \")\n",
        "  print()"
      ],
      "metadata": {
        "colab": {
          "base_uri": "https://localhost:8080/"
        },
        "id": "4pTbqGk1hXdO",
        "outputId": "e413fd76-c488-4587-b088-c484486cb6c8"
      },
      "execution_count": null,
      "outputs": [
        {
          "output_type": "stream",
          "name": "stdout",
          "text": [
            "00 01 02 03 04 05 06 07 08 09 \n",
            "10 11 12 13 14 15 16 17 18 19 \n",
            "20 21 22 23 24 25 26 27 28 29 \n"
          ]
        }
      ]
    },
    {
      "cell_type": "code",
      "source": [
        "for i in range(0,7):\n",
        "  for j in range(0,i+1):\n",
        "    print(j, end=\"\")\n",
        "  print()\n",
        "\n"
      ],
      "metadata": {
        "colab": {
          "base_uri": "https://localhost:8080/"
        },
        "id": "qFZarHQklrD9",
        "outputId": "e29d1978-8b5b-4d98-a9f1-6e6df14ffcd8"
      },
      "execution_count": null,
      "outputs": [
        {
          "output_type": "stream",
          "name": "stdout",
          "text": [
            "0\n",
            "01\n",
            "012\n",
            "0123\n",
            "01234\n",
            "012345\n",
            "0123456\n"
          ]
        }
      ]
    },
    {
      "cell_type": "code",
      "source": [
        "for i in range(5,0,-1):\n",
        "  for j in range(i):\n",
        "    print(i, end=\"\")\n",
        "  print()\n",
        "\n"
      ],
      "metadata": {
        "colab": {
          "base_uri": "https://localhost:8080/"
        },
        "id": "e9Y_xOWznD3o",
        "outputId": "4bf9db59-4114-4e05-ab0c-3c95a055432a"
      },
      "execution_count": null,
      "outputs": [
        {
          "output_type": "stream",
          "name": "stdout",
          "text": [
            "55555\n",
            "4444\n",
            "333\n",
            "22\n",
            "1\n"
          ]
        }
      ]
    },
    {
      "cell_type": "code",
      "source": [
        "rows = 5\n",
        "for i in range(1, rows+1):\n",
        "  for j in range(1,i+1):\n",
        "    print(j, end=\"\")\n",
        "  print()"
      ],
      "metadata": {
        "colab": {
          "base_uri": "https://localhost:8080/"
        },
        "id": "Q9UwVxxirici",
        "outputId": "e2d9c176-8c0d-43db-9c3c-c392cc75b2c5"
      },
      "execution_count": null,
      "outputs": [
        {
          "output_type": "stream",
          "name": "stdout",
          "text": [
            "1\n",
            "12\n",
            "123\n",
            "1234\n",
            "12345\n"
          ]
        }
      ]
    },
    {
      "cell_type": "code",
      "source": [
        "rows = 3\n",
        "for i in range(rows+1,-1,-1):\n",
        "  for j in range(i+1,0,-1):\n",
        "    print(j, end=\"\")\n",
        "  print()"
      ],
      "metadata": {
        "colab": {
          "base_uri": "https://localhost:8080/"
        },
        "id": "EqPvpWZYsInO",
        "outputId": "adaa628e-fa34-4fec-d39b-c3885644013d"
      },
      "execution_count": null,
      "outputs": [
        {
          "output_type": "stream",
          "name": "stdout",
          "text": [
            "54321\n",
            "4321\n",
            "321\n",
            "21\n",
            "1\n"
          ]
        }
      ]
    },
    {
      "cell_type": "code",
      "source": [
        "rows = 7\n",
        "for i in range(rows+1,-1,-1):\n",
        "  for j in range(i+1,0,-1):\n",
        "      print(\"{:5d}\".format(j), end=\"\")\n",
        "  print()"
      ],
      "metadata": {
        "colab": {
          "base_uri": "https://localhost:8080/"
        },
        "id": "FSW5LLU5uWD1",
        "outputId": "9ec6abf5-1d63-40be-a4dc-a5ab89b3576e"
      },
      "execution_count": null,
      "outputs": [
        {
          "output_type": "stream",
          "name": "stdout",
          "text": [
            "    9    8    7    6    5    4    3    2    1\n",
            "    8    7    6    5    4    3    2    1\n",
            "    7    6    5    4    3    2    1\n",
            "    6    5    4    3    2    1\n",
            "    5    4    3    2    1\n",
            "    4    3    2    1\n",
            "    3    2    1\n",
            "    2    1\n",
            "    1\n"
          ]
        }
      ]
    },
    {
      "cell_type": "code",
      "source": [
        "rows = int(input(\"Enter rows: \"))\n",
        "for i in range (1, rows+1):\n",
        "  print(\" \"*(rows-i) + \"*\" * i)"
      ],
      "metadata": {
        "colab": {
          "base_uri": "https://localhost:8080/"
        },
        "id": "XNgDLvl3xjKX",
        "outputId": "4eafcf5b-3b12-4774-c64b-aa75873defc3"
      },
      "execution_count": null,
      "outputs": [
        {
          "output_type": "stream",
          "name": "stdout",
          "text": [
            "Enter rows: 6\n",
            "     *\n",
            "    **\n",
            "   ***\n",
            "  ****\n",
            " *****\n",
            "******\n"
          ]
        }
      ]
    },
    {
      "cell_type": "code",
      "source": [
        "rows = 3\n",
        "for i in range(rows+1,-1,-1):\n",
        "  for j in range(i+1, 0, -1):\n",
        "    print(\" \"*(rows-j), j , end=\"\")\n",
        "  print()"
      ],
      "metadata": {
        "colab": {
          "base_uri": "https://localhost:8080/"
        },
        "id": "M3SpIbSmzmg7",
        "outputId": "1340c8a4-9a13-454e-8883-36f5cff07893"
      },
      "execution_count": null,
      "outputs": [
        {
          "output_type": "stream",
          "name": "stdout",
          "text": [
            " 5 4 3  2   1\n",
            " 4 3  2   1\n",
            " 3  2   1\n",
            "  2   1\n",
            "   1\n"
          ]
        }
      ]
    },
    {
      "cell_type": "code",
      "source": [
        "# to check if a number is prime or not\n",
        "\n",
        "num =int(input(\"Enter number: \"))\n",
        "\n",
        "for i in range(2,num):\n",
        "  if num%i == 0:\n",
        "    print(\"Not Prime\")\n",
        "    break\n",
        "else:\n",
        "  print(\"Prime\")\n",
        "\n"
      ],
      "metadata": {
        "colab": {
          "base_uri": "https://localhost:8080/"
        },
        "id": "YGN6W1Kn3mvv",
        "outputId": "68be4dca-e946-4ddd-e03d-5b48cbb236aa"
      },
      "execution_count": null,
      "outputs": [
        {
          "output_type": "stream",
          "name": "stdout",
          "text": [
            "Enter number: 16\n",
            "Not Prime\n"
          ]
        }
      ]
    },
    {
      "cell_type": "markdown",
      "source": [
        "# DAY 6\n"
      ],
      "metadata": {
        "id": "2h2TeUiLz5Ez"
      }
    },
    {
      "cell_type": "code",
      "source": [
        "# to print fibonacci series upto n terms\n",
        "\n",
        "num = int(input(\"Enter number: \"))\n",
        "a = 0\n",
        "b = 1\n",
        "for i in range(num):\n",
        "  if i <= 1:\n",
        "    result = i\n",
        "  else:\n",
        "    result = a + b\n",
        "    a = b\n",
        "    b = result\n",
        "  print(result)"
      ],
      "metadata": {
        "id": "28qJ4AYP34qX",
        "colab": {
          "base_uri": "https://localhost:8080/"
        },
        "outputId": "e887b96a-8c27-4655-889b-914ea079beaf"
      },
      "execution_count": null,
      "outputs": [
        {
          "output_type": "stream",
          "name": "stdout",
          "text": [
            "Enter number: 10\n",
            "0\n",
            "1\n",
            "1\n",
            "2\n",
            "3\n",
            "5\n",
            "8\n",
            "13\n",
            "21\n",
            "34\n"
          ]
        }
      ]
    },
    {
      "cell_type": "code",
      "source": [
        "# to check if a number palindrome\n",
        "\n",
        "num = int(input(\"Enter Number: \"))\n",
        "\n",
        "if str(num) == str(num)[::-1]:\n",
        "  print(\"Palindrome\")\n",
        "else:\n",
        "  print(\"Not Palindrome\")"
      ],
      "metadata": {
        "colab": {
          "base_uri": "https://localhost:8080/"
        },
        "id": "7ofcneu03--r",
        "outputId": "26d95ae1-8f88-4986-960d-a5ae3c03b78f"
      },
      "execution_count": null,
      "outputs": [
        {
          "output_type": "stream",
          "name": "stdout",
          "text": [
            "Enter Number: 654\n",
            "Not Palindrome\n"
          ]
        }
      ]
    },
    {
      "cell_type": "code",
      "source": [
        "# to check if a number is armstrong number\n",
        "\n",
        "num = int(input(\"Enter Number: \"))\n",
        "sum = 0\n",
        "temp = num\n",
        "\n",
        "while temp > 0:\n",
        "  digit = temp % 10\n",
        "  sum += digit ** 3\n",
        "  temp //= 10\n",
        "\n",
        "if num == sum:\n",
        "  print(\"Armstrong\")\n",
        "else:\n",
        "  print(\"Not Armstrong\")\n"
      ],
      "metadata": {
        "colab": {
          "base_uri": "https://localhost:8080/"
        },
        "id": "vE4BKxbl4Gbf",
        "outputId": "6399a995-4b5b-4085-9e48-8d186429cef1"
      },
      "execution_count": null,
      "outputs": [
        {
          "output_type": "stream",
          "name": "stdout",
          "text": [
            "Enter Number: 153\n",
            "Armstrong\n"
          ]
        }
      ]
    },
    {
      "cell_type": "code",
      "source": [
        "# to check perfect number\n",
        "\n",
        "num = int(input(\"Enter Number: \"))\n",
        "sum = 0\n",
        "\n",
        "for i in range(1,num):\n",
        "  if num%i == 0:\n",
        "    sum += i\n",
        "if sum == num:\n",
        "  print(\"Perfect\")\n",
        "else:\n",
        "  print(\"Not Perfect\")\n"
      ],
      "metadata": {
        "colab": {
          "base_uri": "https://localhost:8080/"
        },
        "id": "45KKeWHu4MjV",
        "outputId": "5600dd63-c614-4ac0-b685-6712fa932c6b"
      },
      "execution_count": null,
      "outputs": [
        {
          "output_type": "stream",
          "name": "stdout",
          "text": [
            "Enter Number: 9\n",
            "Not Perfect\n"
          ]
        }
      ]
    },
    {
      "cell_type": "code",
      "source": [],
      "metadata": {
        "id": "3uUrXtdZz4Zu"
      },
      "execution_count": null,
      "outputs": []
    },
    {
      "cell_type": "code",
      "source": [
        "def message():\n",
        "  print(\"Welcome to boring 101\")\n",
        "  print(\"Don't ask\")\n",
        "message()"
      ],
      "metadata": {
        "colab": {
          "base_uri": "https://localhost:8080/"
        },
        "id": "PVWIM35m4T8k",
        "outputId": "8c295357-4bec-4dcb-ce18-18e693e92436"
      },
      "execution_count": null,
      "outputs": [
        {
          "output_type": "stream",
          "name": "stdout",
          "text": [
            "Welcome to boring 101\n",
            "Don't ask\n"
          ]
        }
      ]
    },
    {
      "cell_type": "code",
      "source": [
        "# check disarium number\n",
        "\n",
        "num = int(input(\"Enter Number: \"))\n",
        "length = len(str(num))\n",
        "temp = num\n",
        "sum = 0\n",
        "\n",
        "while temp > 0:\n",
        "  digit = temp % 10\n",
        "  sum += digit ** length\n",
        "  temp //= 10\n",
        "  length -= 1\n",
        "\n",
        "if num == sum:\n",
        "  print(\"Disarium Number\")\n",
        "else:\n",
        "  print(\"Not Disarium Number\")"
      ],
      "metadata": {
        "colab": {
          "base_uri": "https://localhost:8080/"
        },
        "id": "YYzwgj4DudVh",
        "outputId": "a031dd24-e5c3-47ec-91f0-8c8580d75603"
      },
      "execution_count": null,
      "outputs": [
        {
          "output_type": "stream",
          "name": "stdout",
          "text": [
            "Enter Number: 89\n",
            "Disarium Number\n"
          ]
        }
      ]
    },
    {
      "cell_type": "code",
      "source": [
        "num1 = int(input(\"1st: \"))\n",
        "num2 = int(input(\"2nd: \"))\n",
        "\n",
        "def math(num1,num2):\n",
        "\n",
        "  add = num1 + num2\n",
        "  sub = num1 - num2\n",
        "  mul = num1 * num2\n",
        "  div = num1 / num2\n",
        "  return add, sub, mul, div\n",
        "a,b,c,d = math(num1,num2)\n",
        "e,f,g,h = math(99,36)\n",
        "print(a,b,c,d)\n",
        "print(e,f,g,h)"
      ],
      "metadata": {
        "colab": {
          "base_uri": "https://localhost:8080/"
        },
        "id": "cADFmeeSz0qP",
        "outputId": "a5b8e2d4-3fca-42b1-f4c8-f8f4b514e29d"
      },
      "execution_count": null,
      "outputs": [
        {
          "output_type": "stream",
          "name": "stdout",
          "text": [
            "1st: 23\n",
            "2nd: 11\n",
            "34 12 253 2.090909090909091\n",
            "135 63 3564 2.75\n"
          ]
        }
      ]
    },
    {
      "cell_type": "code",
      "source": [
        "def find_sum(a,b=20):\n",
        "  print(a,b)\n",
        "find_sum(10)\n",
        "\n",
        "def find_sum(a,b,c=35):\n",
        "  print(a,b,c)\n",
        "find_sum(10,30)\n",
        "find_sum(10,30,50)\n"
      ],
      "metadata": {
        "colab": {
          "base_uri": "https://localhost:8080/"
        },
        "id": "0u5DWi5N0fyx",
        "outputId": "c5ad4775-3d73-45d8-d147-80b18445df6c"
      },
      "execution_count": null,
      "outputs": [
        {
          "output_type": "stream",
          "name": "stdout",
          "text": [
            "10 20\n",
            "10 30 35\n",
            "10 30 50\n"
          ]
        }
      ]
    },
    {
      "cell_type": "code",
      "source": [
        "def my_fun(**name):\n",
        "  print(f\"First name is {name['fname']} and last name is {name['lname']}\")\n",
        "my_fun(fname = \"John\", lname = \"Doe\")\n"
      ],
      "metadata": {
        "colab": {
          "base_uri": "https://localhost:8080/"
        },
        "id": "AeWu9ynm_4LJ",
        "outputId": "f627f272-a613-431f-86ba-7dde603f1700"
      },
      "execution_count": null,
      "outputs": [
        {
          "output_type": "stream",
          "name": "stdout",
          "text": [
            "First name is John and last name is Doe\n"
          ]
        }
      ]
    },
    {
      "cell_type": "code",
      "source": [
        "# check prime and generate\n",
        "num = int(input(\"Enter Number: \"))\n",
        "def is_prime(num):\n",
        "  if num <= 1:\n",
        "    return False\n",
        "  for i in range(2,int(num**0.5) + 1):\n",
        "    if num % i == 0:\n",
        "      return False\n",
        "  return True\n",
        "if is_prime(num):\n",
        "  print(\"Prime\")\n",
        "else:\n",
        "  print(\"Not Prime\")"
      ],
      "metadata": {
        "colab": {
          "base_uri": "https://localhost:8080/"
        },
        "id": "ymSTS6t_BN1C",
        "outputId": "da35cbc6-25ee-42f0-87e9-bb85522fa42e"
      },
      "execution_count": null,
      "outputs": [
        {
          "output_type": "stream",
          "name": "stdout",
          "text": [
            "11\n",
            "Prime\n"
          ]
        }
      ]
    },
    {
      "cell_type": "markdown",
      "source": [
        "#DAY 7"
      ],
      "metadata": {
        "id": "FNyJUDuh00nx"
      }
    },
    {
      "cell_type": "code",
      "source": [
        "# to reverse a number"
      ],
      "metadata": {
        "id": "Qpr6rf4_Ba8I"
      },
      "execution_count": null,
      "outputs": []
    },
    {
      "cell_type": "code",
      "source": [
        "# to find factorial of a number\n",
        "\n",
        "num = int(input(\"Enter number: \"))\n",
        "fact = 1\n",
        "\n",
        "def fact(num):\n",
        "  for i in range(1,num+1):\n",
        "    if num == 0:\n",
        "      return 1\n",
        "    else :\n",
        "      return num * fact(num-1)\n",
        "\n",
        "num1 = fact(num)\n",
        "print(num1)\n"
      ],
      "metadata": {
        "colab": {
          "base_uri": "https://localhost:8080/",
          "height": 383
        },
        "id": "dNnJ1AyTBe8t",
        "outputId": "a8ec1100-a929-4173-d55b-6b01175fab8c"
      },
      "execution_count": null,
      "outputs": [
        {
          "name": "stdout",
          "output_type": "stream",
          "text": [
            "Enter number: 5\n"
          ]
        },
        {
          "output_type": "error",
          "ename": "TypeError",
          "evalue": "unsupported operand type(s) for *: 'int' and 'NoneType'",
          "traceback": [
            "\u001b[0;31m---------------------------------------------------------------------------\u001b[0m",
            "\u001b[0;31mTypeError\u001b[0m                                 Traceback (most recent call last)",
            "\u001b[0;32m<ipython-input-22-03a065aa51cc>\u001b[0m in \u001b[0;36m<cell line: 13>\u001b[0;34m()\u001b[0m\n\u001b[1;32m     11\u001b[0m       \u001b[0;32mreturn\u001b[0m \u001b[0mnum\u001b[0m \u001b[0;34m*\u001b[0m \u001b[0mfact\u001b[0m\u001b[0;34m(\u001b[0m\u001b[0mnum\u001b[0m\u001b[0;34m-\u001b[0m\u001b[0;36m1\u001b[0m\u001b[0;34m)\u001b[0m\u001b[0;34m\u001b[0m\u001b[0;34m\u001b[0m\u001b[0m\n\u001b[1;32m     12\u001b[0m \u001b[0;34m\u001b[0m\u001b[0m\n\u001b[0;32m---> 13\u001b[0;31m \u001b[0mnum1\u001b[0m \u001b[0;34m=\u001b[0m \u001b[0mfact\u001b[0m\u001b[0;34m(\u001b[0m\u001b[0mnum\u001b[0m\u001b[0;34m)\u001b[0m\u001b[0;34m\u001b[0m\u001b[0;34m\u001b[0m\u001b[0m\n\u001b[0m\u001b[1;32m     14\u001b[0m \u001b[0mprint\u001b[0m\u001b[0;34m(\u001b[0m\u001b[0mnum1\u001b[0m\u001b[0;34m)\u001b[0m\u001b[0;34m\u001b[0m\u001b[0;34m\u001b[0m\u001b[0m\n\u001b[1;32m     15\u001b[0m \u001b[0;34m\u001b[0m\u001b[0m\n",
            "\u001b[0;32m<ipython-input-22-03a065aa51cc>\u001b[0m in \u001b[0;36mfact\u001b[0;34m(num)\u001b[0m\n\u001b[1;32m      9\u001b[0m       \u001b[0;32mreturn\u001b[0m \u001b[0;36m1\u001b[0m\u001b[0;34m\u001b[0m\u001b[0;34m\u001b[0m\u001b[0m\n\u001b[1;32m     10\u001b[0m     \u001b[0;32melse\u001b[0m \u001b[0;34m:\u001b[0m\u001b[0;34m\u001b[0m\u001b[0;34m\u001b[0m\u001b[0m\n\u001b[0;32m---> 11\u001b[0;31m       \u001b[0;32mreturn\u001b[0m \u001b[0mnum\u001b[0m \u001b[0;34m*\u001b[0m \u001b[0mfact\u001b[0m\u001b[0;34m(\u001b[0m\u001b[0mnum\u001b[0m\u001b[0;34m-\u001b[0m\u001b[0;36m1\u001b[0m\u001b[0;34m)\u001b[0m\u001b[0;34m\u001b[0m\u001b[0;34m\u001b[0m\u001b[0m\n\u001b[0m\u001b[1;32m     12\u001b[0m \u001b[0;34m\u001b[0m\u001b[0m\n\u001b[1;32m     13\u001b[0m \u001b[0mnum1\u001b[0m \u001b[0;34m=\u001b[0m \u001b[0mfact\u001b[0m\u001b[0;34m(\u001b[0m\u001b[0mnum\u001b[0m\u001b[0;34m)\u001b[0m\u001b[0;34m\u001b[0m\u001b[0;34m\u001b[0m\u001b[0m\n",
            "\u001b[0;32m<ipython-input-22-03a065aa51cc>\u001b[0m in \u001b[0;36mfact\u001b[0;34m(num)\u001b[0m\n\u001b[1;32m      9\u001b[0m       \u001b[0;32mreturn\u001b[0m \u001b[0;36m1\u001b[0m\u001b[0;34m\u001b[0m\u001b[0;34m\u001b[0m\u001b[0m\n\u001b[1;32m     10\u001b[0m     \u001b[0;32melse\u001b[0m \u001b[0;34m:\u001b[0m\u001b[0;34m\u001b[0m\u001b[0;34m\u001b[0m\u001b[0m\n\u001b[0;32m---> 11\u001b[0;31m       \u001b[0;32mreturn\u001b[0m \u001b[0mnum\u001b[0m \u001b[0;34m*\u001b[0m \u001b[0mfact\u001b[0m\u001b[0;34m(\u001b[0m\u001b[0mnum\u001b[0m\u001b[0;34m-\u001b[0m\u001b[0;36m1\u001b[0m\u001b[0;34m)\u001b[0m\u001b[0;34m\u001b[0m\u001b[0;34m\u001b[0m\u001b[0m\n\u001b[0m\u001b[1;32m     12\u001b[0m \u001b[0;34m\u001b[0m\u001b[0m\n\u001b[1;32m     13\u001b[0m \u001b[0mnum1\u001b[0m \u001b[0;34m=\u001b[0m \u001b[0mfact\u001b[0m\u001b[0;34m(\u001b[0m\u001b[0mnum\u001b[0m\u001b[0;34m)\u001b[0m\u001b[0;34m\u001b[0m\u001b[0;34m\u001b[0m\u001b[0m\n",
            "\u001b[0;32m<ipython-input-22-03a065aa51cc>\u001b[0m in \u001b[0;36mfact\u001b[0;34m(num)\u001b[0m\n\u001b[1;32m      9\u001b[0m       \u001b[0;32mreturn\u001b[0m \u001b[0;36m1\u001b[0m\u001b[0;34m\u001b[0m\u001b[0;34m\u001b[0m\u001b[0m\n\u001b[1;32m     10\u001b[0m     \u001b[0;32melse\u001b[0m \u001b[0;34m:\u001b[0m\u001b[0;34m\u001b[0m\u001b[0;34m\u001b[0m\u001b[0m\n\u001b[0;32m---> 11\u001b[0;31m       \u001b[0;32mreturn\u001b[0m \u001b[0mnum\u001b[0m \u001b[0;34m*\u001b[0m \u001b[0mfact\u001b[0m\u001b[0;34m(\u001b[0m\u001b[0mnum\u001b[0m\u001b[0;34m-\u001b[0m\u001b[0;36m1\u001b[0m\u001b[0;34m)\u001b[0m\u001b[0;34m\u001b[0m\u001b[0;34m\u001b[0m\u001b[0m\n\u001b[0m\u001b[1;32m     12\u001b[0m \u001b[0;34m\u001b[0m\u001b[0m\n\u001b[1;32m     13\u001b[0m \u001b[0mnum1\u001b[0m \u001b[0;34m=\u001b[0m \u001b[0mfact\u001b[0m\u001b[0;34m(\u001b[0m\u001b[0mnum\u001b[0m\u001b[0;34m)\u001b[0m\u001b[0;34m\u001b[0m\u001b[0;34m\u001b[0m\u001b[0m\n",
            "\u001b[0;32m<ipython-input-22-03a065aa51cc>\u001b[0m in \u001b[0;36mfact\u001b[0;34m(num)\u001b[0m\n\u001b[1;32m      9\u001b[0m       \u001b[0;32mreturn\u001b[0m \u001b[0;36m1\u001b[0m\u001b[0;34m\u001b[0m\u001b[0;34m\u001b[0m\u001b[0m\n\u001b[1;32m     10\u001b[0m     \u001b[0;32melse\u001b[0m \u001b[0;34m:\u001b[0m\u001b[0;34m\u001b[0m\u001b[0;34m\u001b[0m\u001b[0m\n\u001b[0;32m---> 11\u001b[0;31m       \u001b[0;32mreturn\u001b[0m \u001b[0mnum\u001b[0m \u001b[0;34m*\u001b[0m \u001b[0mfact\u001b[0m\u001b[0;34m(\u001b[0m\u001b[0mnum\u001b[0m\u001b[0;34m-\u001b[0m\u001b[0;36m1\u001b[0m\u001b[0;34m)\u001b[0m\u001b[0;34m\u001b[0m\u001b[0;34m\u001b[0m\u001b[0m\n\u001b[0m\u001b[1;32m     12\u001b[0m \u001b[0;34m\u001b[0m\u001b[0m\n\u001b[1;32m     13\u001b[0m \u001b[0mnum1\u001b[0m \u001b[0;34m=\u001b[0m \u001b[0mfact\u001b[0m\u001b[0;34m(\u001b[0m\u001b[0mnum\u001b[0m\u001b[0;34m)\u001b[0m\u001b[0;34m\u001b[0m\u001b[0;34m\u001b[0m\u001b[0m\n",
            "\u001b[0;32m<ipython-input-22-03a065aa51cc>\u001b[0m in \u001b[0;36mfact\u001b[0;34m(num)\u001b[0m\n\u001b[1;32m      9\u001b[0m       \u001b[0;32mreturn\u001b[0m \u001b[0;36m1\u001b[0m\u001b[0;34m\u001b[0m\u001b[0;34m\u001b[0m\u001b[0m\n\u001b[1;32m     10\u001b[0m     \u001b[0;32melse\u001b[0m \u001b[0;34m:\u001b[0m\u001b[0;34m\u001b[0m\u001b[0;34m\u001b[0m\u001b[0m\n\u001b[0;32m---> 11\u001b[0;31m       \u001b[0;32mreturn\u001b[0m \u001b[0mnum\u001b[0m \u001b[0;34m*\u001b[0m \u001b[0mfact\u001b[0m\u001b[0;34m(\u001b[0m\u001b[0mnum\u001b[0m\u001b[0;34m-\u001b[0m\u001b[0;36m1\u001b[0m\u001b[0;34m)\u001b[0m\u001b[0;34m\u001b[0m\u001b[0;34m\u001b[0m\u001b[0m\n\u001b[0m\u001b[1;32m     12\u001b[0m \u001b[0;34m\u001b[0m\u001b[0m\n\u001b[1;32m     13\u001b[0m \u001b[0mnum1\u001b[0m \u001b[0;34m=\u001b[0m \u001b[0mfact\u001b[0m\u001b[0;34m(\u001b[0m\u001b[0mnum\u001b[0m\u001b[0;34m)\u001b[0m\u001b[0;34m\u001b[0m\u001b[0;34m\u001b[0m\u001b[0m\n",
            "\u001b[0;31mTypeError\u001b[0m: unsupported operand type(s) for *: 'int' and 'NoneType'"
          ]
        }
      ]
    },
    {
      "cell_type": "code",
      "source": [
        "for num1 in range(1, 11):\n",
        "    print()\n",
        "    for num2 in range(1, 11):\n",
        "        if len(str(num1*num2)) == 1:\n",
        "            print(\" \"+str(num1*num2),end = ' ')\n",
        "        else:\n",
        "            print(str(num1*num2),end = ' ')\n"
      ],
      "metadata": {
        "colab": {
          "base_uri": "https://localhost:8080/"
        },
        "id": "qnE0Y5OSduqU",
        "outputId": "4cd2c05e-143c-40c9-901c-bb9a9ebc0e75"
      },
      "execution_count": null,
      "outputs": [
        {
          "output_type": "stream",
          "name": "stdout",
          "text": [
            "\n",
            " 1  2  3  4  5  6  7  8  9 10 \n",
            " 2  4  6  8 10 12 14 16 18 20 \n",
            " 3  6  9 12 15 18 21 24 27 30 \n",
            " 4  8 12 16 20 24 28 32 36 40 \n",
            " 5 10 15 20 25 30 35 40 45 50 \n",
            " 6 12 18 24 30 36 42 48 54 60 \n",
            " 7 14 21 28 35 42 49 56 63 70 \n",
            " 8 16 24 32 40 48 56 64 72 80 \n",
            " 9 18 27 36 45 54 63 72 81 90 \n",
            "10 20 30 40 50 60 70 80 90 100 "
          ]
        }
      ]
    },
    {
      "cell_type": "code",
      "source": [
        "rows = 5\n",
        "for i in range(rows+1,-1,-1):\n",
        "  print()\n",
        "  for j in range(i+1,0,-1):\n",
        "    print(\" \"*(rows-i) + str(j)*i, end=\" \")\n",
        "  print()"
      ],
      "metadata": {
        "colab": {
          "base_uri": "https://localhost:8080/"
        },
        "id": "hpZNDG6NeITu",
        "outputId": "30a064c2-f14f-4849-961f-54639e90c461"
      },
      "execution_count": null,
      "outputs": [
        {
          "output_type": "stream",
          "name": "stdout",
          "text": [
            "\n",
            "777777 666666 555555 444444 333333 222222 111111 \n",
            "\n",
            "66666 55555 44444 33333 22222 11111 \n",
            "\n",
            " 5555  4444  3333  2222  1111 \n",
            "\n",
            "  444   333   222   111 \n",
            "\n",
            "   33    22    11 \n",
            "\n",
            "    2     1 \n",
            "\n",
            "      \n"
          ]
        }
      ]
    },
    {
      "cell_type": "code",
      "source": [
        "# using function to convert farenhiet to celcius and vice-versa, depending on user input\n",
        "\n",
        "def temp_fun():\n",
        "\n"
      ],
      "metadata": {
        "id": "_-3hmi2Ztu1p"
      },
      "execution_count": null,
      "outputs": []
    },
    {
      "cell_type": "code",
      "source": [
        "# to check if two strings are anagrams\n",
        "def is_anagram(s1,s2):\n",
        "  s1 = s1.replace(\" \", \"\").lower()\n",
        "  s2 = s2.replace(\" \", \"\").lower()\n",
        "\n",
        "  if (sorted(s1) == sorted(s2)):\n",
        "    print(\"Anagram\")\n",
        "  else:\n",
        "    print(\"Not Anagram\")\n",
        "is_anagram(\"silent\", \"listen\")\n",
        "is_anagram(\"hello\", \"world\")\n",
        "\n"
      ],
      "metadata": {
        "colab": {
          "base_uri": "https://localhost:8080/"
        },
        "id": "XL56H6UcuG4L",
        "outputId": "362fe709-0914-49ec-becd-31adaf60977d"
      },
      "execution_count": null,
      "outputs": [
        {
          "output_type": "stream",
          "name": "stdout",
          "text": [
            "Anagram\n",
            "Not Anagram\n"
          ]
        }
      ]
    },
    {
      "cell_type": "code",
      "source": [
        "# to check if a number is perfect"
      ],
      "metadata": {
        "id": "JR5gMLysuZVm"
      },
      "execution_count": null,
      "outputs": []
    },
    {
      "cell_type": "code",
      "source": [
        "# to check if a number is strong number"
      ],
      "metadata": {
        "id": "k3gM3PWbu34Y"
      },
      "execution_count": null,
      "outputs": []
    },
    {
      "cell_type": "markdown",
      "source": [
        "# DAY 8"
      ],
      "metadata": {
        "id": "WhFfecuh9XMm"
      }
    },
    {
      "cell_type": "code",
      "source": [
        "x2 = 40\n",
        "def f1(a=15,b=20):\n",
        "  global x2 #without defining global here print of x2 works but not can't change its value\n",
        "  x1 = 10\n",
        "  x2 += 20\n",
        "  print(x1 + x2)\n",
        "  print(x1)\n",
        "  print(x2)\n",
        "  print(locals())\n",
        "f1(20,40)\n",
        "print(x2)\n"
      ],
      "metadata": {
        "colab": {
          "base_uri": "https://localhost:8080/"
        },
        "id": "JtJ7L3Mw9Wqg",
        "outputId": "f1d38240-02ab-437b-c9b7-aab2a7cb698f"
      },
      "execution_count": null,
      "outputs": [
        {
          "output_type": "stream",
          "name": "stdout",
          "text": [
            "70\n",
            "10\n",
            "60\n",
            "{'a': 20, 'b': 40, 'x1': 10}\n",
            "60\n"
          ]
        }
      ]
    },
    {
      "cell_type": "code",
      "source": [
        "def f1():\n",
        "  x1 = 10\n",
        "  def f2():\n",
        "    nonlocal x1\n",
        "    x2 = 30\n",
        "    x1 += 10\n",
        "    print(x1)\n",
        "  f2()\n",
        "f1()"
      ],
      "metadata": {
        "colab": {
          "base_uri": "https://localhost:8080/"
        },
        "id": "VKi4xRl4F4Zg",
        "outputId": "43cca264-9627-4bb9-890a-4dcc8660cc71"
      },
      "execution_count": null,
      "outputs": [
        {
          "output_type": "stream",
          "name": "stdout",
          "text": [
            "20\n"
          ]
        }
      ]
    },
    {
      "cell_type": "code",
      "source": [
        "# to modify a global variable to inside a function using global keyword\n",
        "\n",
        "z1 = 400\n",
        "def f1():\n",
        "  global z1\n",
        "  z2 = 20\n",
        "  z1 += 20\n",
        "  print(z1)\n",
        "  print(z2)\n",
        "f1()\n",
        "print(z1)"
      ],
      "metadata": {
        "colab": {
          "base_uri": "https://localhost:8080/"
        },
        "id": "PBRxRpC3LyGY",
        "outputId": "910cea37-10e0-428f-ddbf-726a57ff4fbf"
      },
      "execution_count": null,
      "outputs": [
        {
          "output_type": "stream",
          "name": "stdout",
          "text": [
            "420\n",
            "20\n",
            "420\n"
          ]
        }
      ]
    },
    {
      "cell_type": "code",
      "source": [
        "# create a nested function where the inner function modifies the variable from the outer function using nonlocal keyword\n",
        "\n",
        "def f1():\n",
        "  y1 = 69\n",
        "  def f2():\n",
        "    nonlocal y1\n",
        "    y1 -= 9\n",
        "    print(y1)\n",
        "  f2()\n",
        "f1()"
      ],
      "metadata": {
        "colab": {
          "base_uri": "https://localhost:8080/"
        },
        "id": "T33SWWIvL_7o",
        "outputId": "7a7868a5-2c5b-4711-be1e-828a263ccaec"
      },
      "execution_count": null,
      "outputs": [
        {
          "output_type": "stream",
          "name": "stdout",
          "text": [
            "60\n"
          ]
        }
      ]
    },
    {
      "cell_type": "code",
      "source": [
        "# factorial\n",
        "\n",
        "num = int(input(\"Find factorial of number: \"))\n",
        "def fact(num):\n",
        "  if num == 0:\n",
        "    return 1\n",
        "  else:\n",
        "    return num * fact(num-1)\n",
        "num1 = fact(num)\n",
        "print(f\"{num1} is the factorial of {num}\")"
      ],
      "metadata": {
        "colab": {
          "base_uri": "https://localhost:8080/"
        },
        "id": "aD97N6gIS_v_",
        "outputId": "fb41ee88-3c71-4570-bc46-4c183f758acf"
      },
      "execution_count": null,
      "outputs": [
        {
          "output_type": "stream",
          "name": "stdout",
          "text": [
            "Find factorial of number: 5\n",
            "120 is the factorial of 5\n"
          ]
        }
      ]
    },
    {
      "cell_type": "code",
      "source": [
        "# fibonacci using recursion\n",
        "\n",
        "num = int(input(\"Enter number: \"))\n",
        "\n",
        "def fib(num):\n",
        "  if num <= 1:\n",
        "    return num\n",
        "  else:\n",
        "    return fib(num-1) + fib(num-2)\n",
        "for i in range(num):\n",
        "  print(fib(i), end=\",\")"
      ],
      "metadata": {
        "colab": {
          "base_uri": "https://localhost:8080/"
        },
        "id": "Ykh19IOgW7Za",
        "outputId": "0b572dec-18e9-47a1-be22-59cf65cf86a6"
      },
      "execution_count": null,
      "outputs": [
        {
          "output_type": "stream",
          "name": "stdout",
          "text": [
            "Enter number: 9\n",
            "0,1,1,2,3,5,8,13,21,"
          ]
        }
      ]
    },
    {
      "cell_type": "code",
      "source": [
        "# to find HCF/GCD and LCM\n",
        "\n",
        "num1 = int(input(\"1st number: \"))\n",
        "num2 = int(input(\"2nd number: \"))\n",
        "\n",
        "if num1 == num1 and num2 ==\n"
      ],
      "metadata": {
        "id": "QAZRDemddhZ4"
      },
      "execution_count": null,
      "outputs": []
    },
    {
      "cell_type": "code",
      "source": [
        "def ex_fun(s,char):\n",
        "   return s.find(char)\n",
        "my_s = 'Hello'\n",
        "print(ex_fun(my_s, '1'))"
      ],
      "metadata": {
        "colab": {
          "base_uri": "https://localhost:8080/"
        },
        "id": "UCZTMVbBPSP2",
        "outputId": "fd98550f-052d-4230-ab7e-61add79eee46"
      },
      "execution_count": null,
      "outputs": [
        {
          "output_type": "stream",
          "name": "stdout",
          "text": [
            "-1\n"
          ]
        }
      ]
    },
    {
      "cell_type": "markdown",
      "source": [
        "#DAY 9"
      ],
      "metadata": {
        "id": "1XFX9Cqjppwl"
      }
    },
    {
      "cell_type": "code",
      "source": [
        "# saving a module\n",
        "code = \"\"\"\n",
        "def greet(name):\n",
        "  return f\"Hello,{name}\"\n",
        "def add(num1,num2):\n",
        "  return num1 + num2\n",
        "def sub(num1,num2):\n",
        "  return num1 - num2\n",
        "def prod(num1,num2):\n",
        "  return num1 * num2\n",
        "def div(num1,num2):\n",
        "  return num1/num2\n",
        "def expo(num1,num2):\n",
        "  return num1 ** num2\n",
        "\n",
        "if __name__ == \"__main__\" :\n",
        "  print(greet(\"Megha\"))\n",
        "  print(add(4,7))\n",
        "\n",
        "\"\"\"\n",
        "# write the module to a .py file\n",
        "with open('/content/arith.py', 'w') as f:\n",
        "  f.write(code)"
      ],
      "metadata": {
        "id": "8VSMlh2CNaiS"
      },
      "execution_count": null,
      "outputs": []
    },
    {
      "cell_type": "code",
      "source": [
        "import arith as m\n",
        "addition = m.add(4,9)\n",
        "exponent = m.expo(3,5)\n",
        "print(addition)\n",
        "print(exponent)"
      ],
      "metadata": {
        "id": "T89VvqrZRYC9",
        "colab": {
          "base_uri": "https://localhost:8080/"
        },
        "outputId": "b29d7aec-6943-4978-fb70-c711e5484cbc"
      },
      "execution_count": null,
      "outputs": [
        {
          "output_type": "stream",
          "name": "stdout",
          "text": [
            "13\n",
            "243\n"
          ]
        }
      ]
    },
    {
      "cell_type": "code",
      "source": [
        "# a module for factorial and prime\n",
        "\n",
        "def fact(num):\n",
        "  if num == 0:\n",
        "    return 1\n",
        "  else:\n",
        "    return num * fact(num-1)\n",
        "num1 = fact(num)"
      ],
      "metadata": {
        "id": "buISsTymihcN"
      },
      "execution_count": null,
      "outputs": []
    },
    {
      "cell_type": "code",
      "source": [
        "import os\n",
        "os.makedirs('/content/mypackage', exist_ok=True)\n",
        "with open('/content/mypackage/arith.py', 'w') as f:\n",
        "  f.write('')\n",
        "\n",
        "greeting_code= \"\"\"\n",
        "def greet(name):\n",
        "  return f\"Hello,{name}\"\n",
        "\"\"\"\n",
        "with open('/content/mypackage/greetings.py', 'w') as f:\n",
        "  f.write(greeting_code)\n",
        "\n",
        "maths_operations_code = \"\"\"\n",
        "def add(num1,num2):\n",
        "  return num1 + num2\n",
        "def sub(num1,num2):\n",
        "  return num1 - num2\n",
        "\"\"\"\n",
        "with open('/content/mypackage/maths.py', 'w') as f:\n",
        "  f.write(maths_operations_code)"
      ],
      "metadata": {
        "id": "vc82uxcgoFdu"
      },
      "execution_count": null,
      "outputs": []
    },
    {
      "cell_type": "code",
      "source": [
        "import mypackage.greetings as greetings\n",
        "import mypackage.maths as maths\n",
        "print(greetings.greet(\"Xavier\"))\n",
        "print(maths.add(4,7))\n",
        "print(maths.sub(4,7))\n",
        "print(dir(greetings))"
      ],
      "metadata": {
        "colab": {
          "base_uri": "https://localhost:8080/"
        },
        "id": "55Q6GWS9tJWA",
        "outputId": "e8127e64-792f-4994-e96f-5e4402cc86ce"
      },
      "execution_count": null,
      "outputs": [
        {
          "output_type": "stream",
          "name": "stdout",
          "text": [
            "Hello,Xavier\n",
            "11\n",
            "-3\n",
            "['__builtins__', '__cached__', '__doc__', '__file__', '__loader__', '__name__', '__package__', '__spec__', 'greet']\n"
          ]
        }
      ]
    },
    {
      "cell_type": "code",
      "source": [
        "import math\n",
        "print(dir(math))"
      ],
      "metadata": {
        "colab": {
          "base_uri": "https://localhost:8080/"
        },
        "id": "EeACuvMYHIbk",
        "outputId": "89f3854c-ea35-4693-a661-00b34e43c98a"
      },
      "execution_count": null,
      "outputs": [
        {
          "output_type": "stream",
          "name": "stdout",
          "text": [
            "['__doc__', '__loader__', '__name__', '__package__', '__spec__', 'acos', 'acosh', 'asin', 'asinh', 'atan', 'atan2', 'atanh', 'ceil', 'comb', 'copysign', 'cos', 'cosh', 'degrees', 'dist', 'e', 'erf', 'erfc', 'exp', 'expm1', 'fabs', 'factorial', 'floor', 'fmod', 'frexp', 'fsum', 'gamma', 'gcd', 'hypot', 'inf', 'isclose', 'isfinite', 'isinf', 'isnan', 'isqrt', 'lcm', 'ldexp', 'lgamma', 'log', 'log10', 'log1p', 'log2', 'modf', 'nan', 'nextafter', 'perm', 'pi', 'pow', 'prod', 'radians', 'remainder', 'sin', 'sinh', 'sqrt', 'tan', 'tanh', 'tau', 'trunc', 'ulp']\n"
          ]
        }
      ]
    },
    {
      "cell_type": "code",
      "source": [
        "import random\n",
        "for i in range(10):\n",
        "  print(random.randint(1,100))\n",
        "\n"
      ],
      "metadata": {
        "colab": {
          "base_uri": "https://localhost:8080/"
        },
        "id": "yfoaRubwLio0",
        "outputId": "ea543f4b-62e0-450d-99e3-a35247e5cdba"
      },
      "execution_count": null,
      "outputs": [
        {
          "output_type": "stream",
          "name": "stdout",
          "text": [
            "79\n",
            "88\n",
            "19\n",
            "43\n",
            "19\n",
            "63\n",
            "22\n",
            "33\n",
            "32\n",
            "57\n"
          ]
        }
      ]
    },
    {
      "cell_type": "code",
      "source": [
        "import random\n",
        "dice = random.randint(1,6)\n",
        "print(dice)"
      ],
      "metadata": {
        "colab": {
          "base_uri": "https://localhost:8080/"
        },
        "id": "EBYSTT8sMRmY",
        "outputId": "95a61fb6-00d6-4480-b93b-6667fc2af68b"
      },
      "execution_count": null,
      "outputs": [
        {
          "output_type": "stream",
          "name": "stdout",
          "text": [
            "5\n"
          ]
        }
      ]
    },
    {
      "cell_type": "code",
      "source": [
        "# print current date and time\n",
        "import datetime\n",
        "print(datetime.datetime.now())"
      ],
      "metadata": {
        "colab": {
          "base_uri": "https://localhost:8080/"
        },
        "id": "EZTjOcs7NgZV",
        "outputId": "4479439f-95a8-4118-a26a-ebfaf503edf5"
      },
      "execution_count": null,
      "outputs": [
        {
          "output_type": "stream",
          "name": "stdout",
          "text": [
            "2025-01-15 09:09:59.614030\n"
          ]
        }
      ]
    },
    {
      "cell_type": "code",
      "source": [
        "# no of days b/w two dates\n",
        "from datetime import datetime\n",
        "date1 = date(2024,2,12)\n",
        "date2 = date(2025,1,19)\n",
        "\n",
        "diff_days = (date2 - date1).days\n",
        "print(diff_days)"
      ],
      "metadata": {
        "colab": {
          "base_uri": "https://localhost:8080/"
        },
        "id": "PbN6havwOiRI",
        "outputId": "1bd23e40-8bc8-41a1-8a47-b36ecdb283d0"
      },
      "execution_count": null,
      "outputs": [
        {
          "output_type": "stream",
          "name": "stdout",
          "text": [
            "342\n"
          ]
        }
      ]
    },
    {
      "cell_type": "code",
      "source": [
        "l1 =['abc', 12, 30.7]\n",
        "l1.insert(2,33)\n",
        "l1.append(69)\n",
        "print(l1)"
      ],
      "metadata": {
        "colab": {
          "base_uri": "https://localhost:8080/"
        },
        "id": "bMcLra-PYazw",
        "outputId": "d8fc0cc9-954c-40b3-9737-e3e0098b2d9e"
      },
      "execution_count": null,
      "outputs": [
        {
          "output_type": "stream",
          "name": "stdout",
          "text": [
            "['abc', 12, 33, 30.7, 69]\n"
          ]
        }
      ]
    },
    {
      "cell_type": "code",
      "source": [
        "L = []\n",
        "for i in range(1,5):\n",
        "  n = int(input())\n",
        "  L[i].append(n)\n",
        "print(L)"
      ],
      "metadata": {
        "colab": {
          "base_uri": "https://localhost:8080/",
          "height": 216
        },
        "id": "kqk3lXsAZItA",
        "outputId": "ee2df6c2-a942-4fe2-a61d-4a87fa29993e"
      },
      "execution_count": null,
      "outputs": [
        {
          "name": "stdout",
          "output_type": "stream",
          "text": [
            "2\n"
          ]
        },
        {
          "output_type": "error",
          "ename": "IndexError",
          "evalue": "list index out of range",
          "traceback": [
            "\u001b[0;31m---------------------------------------------------------------------------\u001b[0m",
            "\u001b[0;31mIndexError\u001b[0m                                Traceback (most recent call last)",
            "\u001b[0;32m<ipython-input-31-6a6dfbbfadd6>\u001b[0m in \u001b[0;36m<cell line: 2>\u001b[0;34m()\u001b[0m\n\u001b[1;32m      2\u001b[0m \u001b[0;32mfor\u001b[0m \u001b[0mi\u001b[0m \u001b[0;32min\u001b[0m \u001b[0mrange\u001b[0m\u001b[0;34m(\u001b[0m\u001b[0;36m1\u001b[0m\u001b[0;34m,\u001b[0m\u001b[0;36m5\u001b[0m\u001b[0;34m)\u001b[0m\u001b[0;34m:\u001b[0m\u001b[0;34m\u001b[0m\u001b[0;34m\u001b[0m\u001b[0m\n\u001b[1;32m      3\u001b[0m   \u001b[0mn\u001b[0m \u001b[0;34m=\u001b[0m \u001b[0mint\u001b[0m\u001b[0;34m(\u001b[0m\u001b[0minput\u001b[0m\u001b[0;34m(\u001b[0m\u001b[0;34m)\u001b[0m\u001b[0;34m)\u001b[0m\u001b[0;34m\u001b[0m\u001b[0;34m\u001b[0m\u001b[0m\n\u001b[0;32m----> 4\u001b[0;31m   \u001b[0mL\u001b[0m\u001b[0;34m[\u001b[0m\u001b[0mi\u001b[0m\u001b[0;34m]\u001b[0m\u001b[0;34m.\u001b[0m\u001b[0mappend\u001b[0m\u001b[0;34m(\u001b[0m\u001b[0mn\u001b[0m\u001b[0;34m)\u001b[0m\u001b[0;34m\u001b[0m\u001b[0;34m\u001b[0m\u001b[0m\n\u001b[0m\u001b[1;32m      5\u001b[0m \u001b[0mprint\u001b[0m\u001b[0;34m(\u001b[0m\u001b[0mL\u001b[0m\u001b[0;34m)\u001b[0m\u001b[0;34m\u001b[0m\u001b[0;34m\u001b[0m\u001b[0m\n",
            "\u001b[0;31mIndexError\u001b[0m: list index out of range"
          ]
        }
      ]
    },
    {
      "cell_type": "markdown",
      "source": [
        "#DAY 10"
      ],
      "metadata": {
        "id": "ncqUpuVGnYNO"
      }
    },
    {
      "cell_type": "code",
      "source": [
        "temp = input(\"Enter temperature: \")\n",
        "degree = int(temp[:-1])\n",
        "unit = temp[-1]"
      ],
      "metadata": {
        "colab": {
          "base_uri": "https://localhost:8080/"
        },
        "id": "B4O0qee934XR",
        "outputId": "88b990e8-d1f7-4631-fe8e-3280697a2caa"
      },
      "execution_count": null,
      "outputs": [
        {
          "output_type": "stream",
          "name": "stdout",
          "text": [
            "True\n"
          ]
        }
      ]
    },
    {
      "cell_type": "code",
      "source": [
        "# to find union,intersection, diff,and symm diff b/w two sets\n",
        "set1 = {1,2,3,4,5}\n",
        "set2 = {4,5,6,7,8}\n",
        "set3 = (set2-set1).union(set1 - set2)\n",
        "print(set1.union(set2))\n",
        "print(set1.intersection(set2))\n",
        "print(set1.difference(set2))\n",
        "print(set2.difference(set1))\n",
        "print(set1.symmetric_difference(set2))\n",
        "print(set3)"
      ],
      "metadata": {
        "colab": {
          "base_uri": "https://localhost:8080/"
        },
        "id": "AIEJRt7OlkEt",
        "outputId": "8ade2eab-e4b8-4767-bb9f-ef0843468a92"
      },
      "execution_count": null,
      "outputs": [
        {
          "output_type": "stream",
          "name": "stdout",
          "text": [
            "{1, 2, 3, 4, 5, 6, 7, 8}\n",
            "{4, 5}\n",
            "{1, 2, 3}\n",
            "{8, 6, 7}\n",
            "{1, 2, 3, 6, 7, 8}\n",
            "{1, 2, 3, 6, 7, 8}\n"
          ]
        }
      ]
    },
    {
      "cell_type": "code",
      "source": [
        "# to remove dublicates from a list using set\n",
        "list1 = [1,2,3,4,5]\n",
        "list2 = [4,5,6,7,8]\n",
        "set1 = set(list1)\n",
        "set2 = set(list2)\n",
        "print(set1.union(set2))"
      ],
      "metadata": {
        "colab": {
          "base_uri": "https://localhost:8080/"
        },
        "id": "bVdrMCA7lxNf",
        "outputId": "85da276c-c45a-4403-f31f-f8f21e62b133"
      },
      "execution_count": null,
      "outputs": [
        {
          "output_type": "stream",
          "name": "stdout",
          "text": [
            "{1, 2, 3, 4, 5, 6, 7, 8}\n"
          ]
        }
      ]
    },
    {
      "cell_type": "code",
      "source": [
        "# to check if one set is subset of another\n",
        "set1 = {1,3,5,7}\n",
        "set2 = {1,3}\n",
        "print(set2.issubset(set1))"
      ],
      "metadata": {
        "colab": {
          "base_uri": "https://localhost:8080/"
        },
        "id": "fHuPNhkIl9NM",
        "outputId": "e720d2bc-a692-4880-ce10-79bb3e9af364"
      },
      "execution_count": null,
      "outputs": [
        {
          "output_type": "stream",
          "name": "stdout",
          "text": [
            "True\n"
          ]
        }
      ]
    },
    {
      "cell_type": "code",
      "source": [
        "# to count freq of characters in a string using dict\n",
        "string = str(input(\"Word: \"))\n",
        "dict1 = {}\n",
        "for i in string:\n",
        "  if i in dict1:\n",
        "    dict1[i] += 1\n",
        "  else:\n",
        "    dict1[i] = 1\n",
        "print(dict1)"
      ],
      "metadata": {
        "colab": {
          "base_uri": "https://localhost:8080/"
        },
        "id": "sXE89A1nmLGo",
        "outputId": "69a40e35-0429-4ccb-a675-338a7c404641"
      },
      "execution_count": null,
      "outputs": [
        {
          "output_type": "stream",
          "name": "stdout",
          "text": [
            "Word: ellegante\n",
            "{'e': 3, 'l': 2, 'g': 1, 'a': 1, 'n': 1, 't': 1}\n"
          ]
        }
      ]
    },
    {
      "cell_type": "code",
      "source": [
        "# create a dic from two list key-l1 and value-l2\n",
        "list1 = [1,3,5,7]\n",
        "list2 = ['f','u','n','k','y']\n",
        "dict1 = dict(zip(list2,list1))\n",
        "dict2 = dict(zip(list1,list2))\n",
        "print(dict1)\n",
        "print(dict2)"
      ],
      "metadata": {
        "colab": {
          "base_uri": "https://localhost:8080/"
        },
        "id": "rNCWE6m0mVfy",
        "outputId": "8717c88b-b48c-4f4e-ddae-266f49f7382f"
      },
      "execution_count": null,
      "outputs": [
        {
          "output_type": "stream",
          "name": "stdout",
          "text": [
            "{'f': 1, 'u': 3, 'n': 5, 'k': 7}\n",
            "{1: 'f', 3: 'u', 5: 'n', 7: 'k'}\n"
          ]
        }
      ]
    },
    {
      "cell_type": "code",
      "source": [
        "# to merge two dic and sort them by key\n",
        "dict1 = {1: 'f', 3: 'u', 5: 'n', 7: 'k', 9: 'y'}\n",
        "dict2 = {2: 's', 4: 'h', 6: 'i', 8: 'n'}\n",
        "dict1.update(dict2)\n",
        "print(dict1)"
      ],
      "metadata": {
        "colab": {
          "base_uri": "https://localhost:8080/"
        },
        "id": "uwiTqcTZmgZg",
        "outputId": "8477f588-b344-4bb4-d2fd-09ad8f9f9732"
      },
      "execution_count": null,
      "outputs": [
        {
          "output_type": "stream",
          "name": "stdout",
          "text": [
            "{1: 'f', 3: 'u', 5: 'n', 7: 'k', 9: 'y', 2: 's', 4: 'h', 6: 'i', 8: 'n'}\n"
          ]
        }
      ]
    },
    {
      "cell_type": "code",
      "source": [
        "# to itirate to a nested dic and print or keys and values\n"
      ],
      "metadata": {
        "id": "yRcLTHRUmyIi"
      },
      "execution_count": null,
      "outputs": []
    },
    {
      "cell_type": "code",
      "source": [
        "# to count the operands of each word in a list using dict\n",
        "list1 = ['nigh','is','the','time','of','sword','and','axe','and','arcane','nigh','is','the','dawn']\n",
        "dict1 = {}\n",
        "for i in list1:\n",
        "  if i in dict1:\n",
        "    dict1[i] += 1\n",
        "  else:\n",
        "    dict1[i] = 1\n",
        "print(dict1)"
      ],
      "metadata": {
        "colab": {
          "base_uri": "https://localhost:8080/"
        },
        "id": "lg46PReNnCBl",
        "outputId": "7c9042f4-29b4-4dd4-951d-c67ec558da20"
      },
      "execution_count": null,
      "outputs": [
        {
          "output_type": "stream",
          "name": "stdout",
          "text": [
            "{'nigh': 2, 'is': 2, 'the': 2, 'time': 1, 'of': 1, 'sword': 1, 'and': 2, 'axe': 1, 'arcane': 1, 'dawn': 1}\n"
          ]
        }
      ]
    },
    {
      "cell_type": "code",
      "source": [
        "import re\n",
        "# sample text containing email address\n",
        "\n",
        "text = \"\"\"\n",
        "Hey, there apologies for the inconviences it will happen again and\n",
        "till death is nigh at thee door and kindly get back to me at\n",
        "yousuck@gmail.com or fascade@reddifmail.com\n",
        "\"\"\"\n",
        "email_pattern = r'[a-zA-Z0-9._]+@[a-zA-Z0-9.-]+\\.[a-zA-Z]{2,}'\n",
        "\n",
        "email_address = re.findall(email_pattern, text)\n",
        "\n",
        "mail = str(input(\"Type your mail: \"))\n",
        "\n",
        "new_mail = re.sub(email_pattern, mail, text)\n",
        "print(new_mail)\n",
        "\n",
        "new_mail1 = re.findall(email_pattern, mail)\n",
        "print(new_mail1)\n",
        "\n",
        "print(email_address)\n"
      ],
      "metadata": {
        "colab": {
          "base_uri": "https://localhost:8080/"
        },
        "id": "wAdF-hXaIbWc",
        "outputId": "55a85bb0-3758-4ea7-fccd-f1e9bafddb3a"
      },
      "execution_count": null,
      "outputs": [
        {
          "output_type": "stream",
          "name": "stdout",
          "text": [
            "Type your mail: notval!d@innit.woe\n",
            "\n",
            "Hey, there apologies for the inconviences it will happen again and\n",
            "till death is nigh at thee door and kindly get back to me at \n",
            "notval!d@innit.woe or notval!d@innit.woe\n",
            "\n",
            "['d@innit.woe']\n",
            "['yousuck@gmail.com', 'fascade@reddifmail.com']\n"
          ]
        }
      ]
    },
    {
      "cell_type": "code",
      "source": [
        "import re\n",
        "num = r'^\\d{}3-\\d{3}-\\d{4}$'\n",
        "\n",
        "n = str(input('Enter your number: '))\n",
        "val_num = re.findall(n, num)\n",
        "\n",
        "print(val_num)"
      ],
      "metadata": {
        "colab": {
          "base_uri": "https://localhost:8080/"
        },
        "id": "j_T7xQXOSNkr",
        "outputId": "b3856250-911c-41be-d1c2-189995595c7d"
      },
      "execution_count": null,
      "outputs": [
        {
          "output_type": "stream",
          "name": "stdout",
          "text": [
            "Enter your number: 987-254-4685\n",
            "[]\n"
          ]
        }
      ]
    },
    {
      "cell_type": "code",
      "source": [
        "import re\n",
        "\n",
        "def is_valid_phone_num(phone_num):\n",
        "  pattern = r'^\\d{3}-\\d{3}-\\d{4}$'"
      ],
      "metadata": {
        "id": "ed-719ocXE9X"
      },
      "execution_count": null,
      "outputs": []
    },
    {
      "cell_type": "code",
      "source": [
        "import re\n",
        "\n",
        "def is_valid_phone_num(phone_num):\n",
        "  pattern = r'^\\d{3}-\\d{3}-\\d{4}$'\n",
        "  if re.match(pattern, phone_num):\n",
        "    return True\n",
        "  else:\n",
        "    return False\n",
        "phone_num = str(input(\"Enter your number: \"))\n"
      ],
      "metadata": {
        "colab": {
          "base_uri": "https://localhost:8080/"
        },
        "id": "D5vYCb7gXkok",
        "outputId": "9fe91f65-df20-41ae-d7f5-9f7b02578398"
      },
      "execution_count": null,
      "outputs": [
        {
          "name": "stdout",
          "output_type": "stream",
          "text": [
            "Enter your number: 7984561248\n"
          ]
        }
      ]
    },
    {
      "cell_type": "code",
      "source": [
        "import os\n",
        "f = open(\"demofile.txt\",\"wt\")\n",
        "f.write(\"Oi, cunt\")\n",
        "f.close()\n",
        "print(os.getcwd())\n",
        "print(os.listdir('/content/'))"
      ],
      "metadata": {
        "colab": {
          "base_uri": "https://localhost:8080/"
        },
        "id": "Vu4hJqNshlgJ",
        "outputId": "bd861973-541d-4d8e-d76d-9198af21a761"
      },
      "execution_count": null,
      "outputs": [
        {
          "output_type": "stream",
          "name": "stdout",
          "text": [
            "/content\n",
            "['.config', 'demofile.txt', 'sample_data']\n"
          ]
        }
      ]
    },
    {
      "cell_type": "code",
      "source": [
        "f = open(\"demofile.txt\", \"rt\")\n",
        "print(f.read())"
      ],
      "metadata": {
        "colab": {
          "base_uri": "https://localhost:8080/"
        },
        "id": "9hkZWbTqkmMf",
        "outputId": "cf448dab-b624-4031-ea7e-21a339abb393"
      },
      "execution_count": null,
      "outputs": [
        {
          "output_type": "stream",
          "name": "stdout",
          "text": [
            "Oi, cunt\n"
          ]
        }
      ]
    },
    {
      "cell_type": "code",
      "source": [
        "text = \"Nigh is chasm\"\n",
        "d1 ={x:text.count(x) for x in text}\n",
        "print(d1)"
      ],
      "metadata": {
        "colab": {
          "base_uri": "https://localhost:8080/"
        },
        "id": "P5onIO6dmpuu",
        "outputId": "6226ef1d-1340-47bc-936e-da3ecf62c793"
      },
      "execution_count": null,
      "outputs": [
        {
          "output_type": "stream",
          "name": "stdout",
          "text": [
            "{'N': 1, 'i': 2, 'g': 1, 'h': 2, ' ': 2, 's': 2, 'c': 1, 'a': 1, 'm': 1}\n"
          ]
        }
      ]
    },
    {
      "cell_type": "code",
      "source": [
        "# open, read, write a file count number of characters, line and words"
      ],
      "metadata": {
        "id": "bAoqaN6Isq_K"
      },
      "execution_count": null,
      "outputs": []
    },
    {
      "cell_type": "code",
      "source": [
        "n = int(input(\"num:\"))\n",
        "\n",
        "sum=0\n",
        "\n",
        "for i in range(0,n):\n",
        "\n",
        " if n%i==0:\n",
        "\n",
        "  sum= sum+i\n",
        "\n",
        "  fac= [i]\n",
        "\n",
        "  print(\"factors:\",fac)\n",
        "\n",
        "  print(\"sun:\", sum)\n",
        "\n",
        " elif sum>n:\n",
        "\n",
        "  print(\"abundant number\")\n",
        "\n",
        " else:\n",
        "\n",
        "  print('deficient number')"
      ],
      "metadata": {
        "colab": {
          "base_uri": "https://localhost:8080/",
          "height": 315
        },
        "id": "sDvp1r5lxFTL",
        "outputId": "aa561127-20c5-4885-b059-237870522732"
      },
      "execution_count": null,
      "outputs": [
        {
          "name": "stdout",
          "output_type": "stream",
          "text": [
            "num:45\n"
          ]
        },
        {
          "output_type": "error",
          "ename": "ZeroDivisionError",
          "evalue": "integer modulo by zero",
          "traceback": [
            "\u001b[0;31m---------------------------------------------------------------------------\u001b[0m",
            "\u001b[0;31mZeroDivisionError\u001b[0m                         Traceback (most recent call last)",
            "\u001b[0;32m<ipython-input-4-0a62678c23e8>\u001b[0m in \u001b[0;36m<cell line: 0>\u001b[0;34m()\u001b[0m\n\u001b[1;32m      5\u001b[0m \u001b[0;32mfor\u001b[0m \u001b[0mi\u001b[0m \u001b[0;32min\u001b[0m \u001b[0mrange\u001b[0m\u001b[0;34m(\u001b[0m\u001b[0;36m0\u001b[0m\u001b[0;34m,\u001b[0m\u001b[0mn\u001b[0m\u001b[0;34m)\u001b[0m\u001b[0;34m:\u001b[0m\u001b[0;34m\u001b[0m\u001b[0;34m\u001b[0m\u001b[0m\n\u001b[1;32m      6\u001b[0m \u001b[0;34m\u001b[0m\u001b[0m\n\u001b[0;32m----> 7\u001b[0;31m  \u001b[0;32mif\u001b[0m \u001b[0mn\u001b[0m\u001b[0;34m%\u001b[0m\u001b[0mi\u001b[0m\u001b[0;34m==\u001b[0m\u001b[0;36m0\u001b[0m\u001b[0;34m:\u001b[0m\u001b[0;34m\u001b[0m\u001b[0;34m\u001b[0m\u001b[0m\n\u001b[0m\u001b[1;32m      8\u001b[0m \u001b[0;34m\u001b[0m\u001b[0m\n\u001b[1;32m      9\u001b[0m   \u001b[0msum\u001b[0m\u001b[0;34m=\u001b[0m \u001b[0msum\u001b[0m\u001b[0;34m+\u001b[0m\u001b[0mi\u001b[0m\u001b[0;34m\u001b[0m\u001b[0;34m\u001b[0m\u001b[0m\n",
            "\u001b[0;31mZeroDivisionError\u001b[0m: integer modulo by zero"
          ]
        }
      ]
    },
    {
      "cell_type": "code",
      "source": [
        "#Here's a Python program to determine if a number is perfect, abundant, or deficient:\n",
        "\n",
        "def classify_number(num):\n",
        "    # Find all divisors of the number (excluding the number itself)\n",
        "    divisors = [i for i in range(1, num // 2 + 1) if num % i == 0]\n",
        "\n",
        "    # Calculate the sum of divisors\n",
        "    divisor_sum = sum(divisors)\n",
        "\n",
        "    # Determine the type of the number\n",
        "    if divisor_sum == num:\n",
        "        classification = \"perfect number\"\n",
        "    elif divisor_sum > num:\n",
        "        classification = \"abundant number\"\n",
        "    else:\n",
        "        classification = \"deficient number\"\n",
        "\n",
        "    # Print the results\n",
        "    print(f\"num: {num}\")\n",
        "    print(f\"factors: {divisors}\")\n",
        "    print(f\"sum: {divisor_sum}\")\n",
        "    print(classification)"
      ],
      "metadata": {
        "id": "SiGR9ORM3WN-"
      },
      "execution_count": null,
      "outputs": []
    },
    {
      "cell_type": "markdown",
      "source": [
        "#DAY 11"
      ],
      "metadata": {
        "id": "-kwMqEIKkyxZ"
      }
    },
    {
      "cell_type": "code",
      "source": [
        "# sum of sq of num"
      ],
      "metadata": {
        "id": "m7DGVVi-kUUR"
      },
      "execution_count": null,
      "outputs": []
    },
    {
      "cell_type": "code",
      "source": [
        "# sum of sq of num div by the factorial of num"
      ],
      "metadata": {
        "id": "0DGwGF5mkXL0"
      },
      "execution_count": null,
      "outputs": []
    }
  ]
}